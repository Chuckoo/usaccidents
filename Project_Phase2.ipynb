{
  "nbformat": 4,
  "nbformat_minor": 0,
  "metadata": {
    "colab": {
      "provenance": []
    },
    "kernelspec": {
      "name": "python3",
      "display_name": "Python 3"
    },
    "language_info": {
      "name": "python"
    }
  },
  "cells": [
    {
      "cell_type": "code",
      "execution_count": 48,
      "metadata": {
        "colab": {
          "base_uri": "https://localhost:8080/"
        },
        "id": "HN03XMVNgwjW",
        "outputId": "6680a413-f462-4023-c65b-9894cdc0f8ed"
      },
      "outputs": [
        {
          "output_type": "stream",
          "name": "stdout",
          "text": [
            "Drive already mounted at /content/drive; to attempt to forcibly remount, call drive.mount(\"/content/drive\", force_remount=True).\n"
          ]
        }
      ],
      "source": [
        "import os\n",
        "from google.colab import drive\n",
        "import pandas as pd\n",
        "\n",
        "drive.mount('/content/drive')\n",
        "\n",
        "folder_path = '/content/drive/MyDrive/EDA_project_phase2'\n",
        "\n",
        "alcoholCons_path = os.path.join(folder_path, 'Per Capita US Alcohol Consumption export 2024-11-11 23-12-25.csv')\n",
        "\n",
        "alcoholCons = pd.read_csv(alcoholCons_path, encoding='ISO-8859-1')\n",
        "\n",
        "sum_beverages = alcoholCons[alcoholCons['Beverage_Type'].isin(['Spirits', 'Wine', 'Beer'])].groupby(['State', 'Year'])['Gallons_of_Beverage'].sum()\n",
        "\n",
        "alcoholCons.loc[alcoholCons['Beverage_Type'] == 'All Beverages', 'Gallons_of_Beverage'] = alcoholCons[alcoholCons['Beverage_Type'] == 'All Beverages'].set_index(['State', 'Year']).index.map(sum_beverages)\n",
        "\n",
        "alcoholCons = alcoholCons[\n",
        "    (alcoholCons['Year'] >= 2016) &\n",
        "    (alcoholCons['Year'] <= 2021) &\n",
        "    (alcoholCons['Beverage_Type'] == \"All Beverages\")\n",
        "]\n"
      ]
    },
    {
      "cell_type": "code",
      "source": [
        "!pip install datasets\n",
        "\n",
        "from datasets import load_dataset\n",
        "\n",
        "dataset = load_dataset(\"nateraw/us-accidents\", split=\"train\")\n",
        "\n",
        "df = dataset.to_pandas()"
      ],
      "metadata": {
        "colab": {
          "base_uri": "https://localhost:8080/"
        },
        "id": "CN1dLqD59swz",
        "outputId": "c7b8a2cd-783c-47c3-9c51-9c5441a487b2"
      },
      "execution_count": 49,
      "outputs": [
        {
          "output_type": "stream",
          "name": "stdout",
          "text": [
            "Requirement already satisfied: datasets in /usr/local/lib/python3.10/dist-packages (3.1.0)\n",
            "Requirement already satisfied: filelock in /usr/local/lib/python3.10/dist-packages (from datasets) (3.16.1)\n",
            "Requirement already satisfied: numpy>=1.17 in /usr/local/lib/python3.10/dist-packages (from datasets) (1.26.4)\n",
            "Requirement already satisfied: pyarrow>=15.0.0 in /usr/local/lib/python3.10/dist-packages (from datasets) (17.0.0)\n",
            "Requirement already satisfied: dill<0.3.9,>=0.3.0 in /usr/local/lib/python3.10/dist-packages (from datasets) (0.3.8)\n",
            "Requirement already satisfied: pandas in /usr/local/lib/python3.10/dist-packages (from datasets) (2.2.2)\n",
            "Requirement already satisfied: requests>=2.32.2 in /usr/local/lib/python3.10/dist-packages (from datasets) (2.32.3)\n",
            "Requirement already satisfied: tqdm>=4.66.3 in /usr/local/lib/python3.10/dist-packages (from datasets) (4.66.6)\n",
            "Requirement already satisfied: xxhash in /usr/local/lib/python3.10/dist-packages (from datasets) (3.5.0)\n",
            "Requirement already satisfied: multiprocess<0.70.17 in /usr/local/lib/python3.10/dist-packages (from datasets) (0.70.16)\n",
            "Requirement already satisfied: fsspec<=2024.9.0,>=2023.1.0 in /usr/local/lib/python3.10/dist-packages (from fsspec[http]<=2024.9.0,>=2023.1.0->datasets) (2024.9.0)\n",
            "Requirement already satisfied: aiohttp in /usr/local/lib/python3.10/dist-packages (from datasets) (3.10.10)\n",
            "Requirement already satisfied: huggingface-hub>=0.23.0 in /usr/local/lib/python3.10/dist-packages (from datasets) (0.24.7)\n",
            "Requirement already satisfied: packaging in /usr/local/lib/python3.10/dist-packages (from datasets) (24.1)\n",
            "Requirement already satisfied: pyyaml>=5.1 in /usr/local/lib/python3.10/dist-packages (from datasets) (6.0.2)\n",
            "Requirement already satisfied: aiohappyeyeballs>=2.3.0 in /usr/local/lib/python3.10/dist-packages (from aiohttp->datasets) (2.4.3)\n",
            "Requirement already satisfied: aiosignal>=1.1.2 in /usr/local/lib/python3.10/dist-packages (from aiohttp->datasets) (1.3.1)\n",
            "Requirement already satisfied: attrs>=17.3.0 in /usr/local/lib/python3.10/dist-packages (from aiohttp->datasets) (24.2.0)\n",
            "Requirement already satisfied: frozenlist>=1.1.1 in /usr/local/lib/python3.10/dist-packages (from aiohttp->datasets) (1.5.0)\n",
            "Requirement already satisfied: multidict<7.0,>=4.5 in /usr/local/lib/python3.10/dist-packages (from aiohttp->datasets) (6.1.0)\n",
            "Requirement already satisfied: yarl<2.0,>=1.12.0 in /usr/local/lib/python3.10/dist-packages (from aiohttp->datasets) (1.17.1)\n",
            "Requirement already satisfied: async-timeout<5.0,>=4.0 in /usr/local/lib/python3.10/dist-packages (from aiohttp->datasets) (4.0.3)\n",
            "Requirement already satisfied: typing-extensions>=3.7.4.3 in /usr/local/lib/python3.10/dist-packages (from huggingface-hub>=0.23.0->datasets) (4.12.2)\n",
            "Requirement already satisfied: charset-normalizer<4,>=2 in /usr/local/lib/python3.10/dist-packages (from requests>=2.32.2->datasets) (3.4.0)\n",
            "Requirement already satisfied: idna<4,>=2.5 in /usr/local/lib/python3.10/dist-packages (from requests>=2.32.2->datasets) (3.10)\n",
            "Requirement already satisfied: urllib3<3,>=1.21.1 in /usr/local/lib/python3.10/dist-packages (from requests>=2.32.2->datasets) (2.2.3)\n",
            "Requirement already satisfied: certifi>=2017.4.17 in /usr/local/lib/python3.10/dist-packages (from requests>=2.32.2->datasets) (2024.8.30)\n",
            "Requirement already satisfied: python-dateutil>=2.8.2 in /usr/local/lib/python3.10/dist-packages (from pandas->datasets) (2.8.2)\n",
            "Requirement already satisfied: pytz>=2020.1 in /usr/local/lib/python3.10/dist-packages (from pandas->datasets) (2024.2)\n",
            "Requirement already satisfied: tzdata>=2022.7 in /usr/local/lib/python3.10/dist-packages (from pandas->datasets) (2024.2)\n",
            "Requirement already satisfied: six>=1.5 in /usr/local/lib/python3.10/dist-packages (from python-dateutil>=2.8.2->pandas->datasets) (1.16.0)\n",
            "Requirement already satisfied: propcache>=0.2.0 in /usr/local/lib/python3.10/dist-packages (from yarl<2.0,>=1.12.0->aiohttp->datasets) (0.2.0)\n"
          ]
        }
      ]
    },
    {
      "cell_type": "code",
      "source": [
        "import pandas as pd\n",
        "df[\"Start_Time\"] = pd.to_datetime(df[\"Start_Time\"], errors='coerce')\n",
        "\n",
        "df = df.dropna(subset=[\"Start_Time\"])\n",
        "\n",
        "df[\"Year\"] = df[\"Start_Time\"].dt.year\n",
        "\n",
        "accidents_by_state_and_year = df.groupby([\"State\", \"Year\"]).size().reset_index(name=\"Accident_Count\")"
      ],
      "metadata": {
        "id": "ooc0K6PGBeOd"
      },
      "execution_count": 50,
      "outputs": []
    },
    {
      "cell_type": "code",
      "source": [
        "state_abbreviation_to_full_name = {\n",
        "    'AL': 'Alabama', 'AK': 'Alaska', 'AZ': 'Arizona', 'AR': 'Arkansas', 'CA': 'California',\n",
        "    'CO': 'Colorado', 'CT': 'Connecticut', 'DC': 'District of Columbia', 'DE': 'Delaware',\n",
        "    'FL': 'Florida', 'GA': 'Georgia', 'HI': 'Hawaii', 'ID': 'Idaho', 'IL': 'Illinois',\n",
        "    'IN': 'Indiana', 'IA': 'Iowa', 'KS': 'Kansas', 'KY': 'Kentucky', 'LA': 'Louisiana',\n",
        "    'ME': 'Maine', 'MD': 'Maryland', 'MA': 'Massachusetts', 'MI': 'Michigan', 'MN': 'Minnesota',\n",
        "    'MS': 'Mississippi', 'MO': 'Missouri', 'MT': 'Montana', 'NE': 'Nebraska', 'NV': 'Nevada',\n",
        "    'NH': 'New Hampshire', 'NJ': 'New Jersey', 'NM': 'New Mexico', 'NY': 'New York',\n",
        "    'NC': 'North Carolina', 'ND': 'North Dakota', 'OH': 'Ohio', 'OK': 'Oklahoma', 'OR': 'Oregon',\n",
        "    'PA': 'Pennsylvania', 'RI': 'Rhode Island', 'SC': 'South Carolina', 'SD': 'South Dakota',\n",
        "    'TN': 'Tennessee', 'TX': 'Texas', 'UT': 'Utah', 'VT': 'Vermont', 'VA': 'Virginia',\n",
        "    'WA': 'Washington', 'WV': 'West Virginia', 'WI': 'Wisconsin', 'WY': 'Wyoming'\n",
        "}\n",
        "\n",
        "accidents_by_state_and_year['State'] = accidents_by_state_and_year['State'].replace(state_abbreviation_to_full_name)"
      ],
      "metadata": {
        "id": "z2J_t-NvDy9K"
      },
      "execution_count": 51,
      "outputs": []
    },
    {
      "cell_type": "code",
      "source": [
        "states_to_keep=['Alabama' 'Alaska' 'Arizona' 'Arkansas' 'California' 'Colorado'\n",
        " 'Connecticut' 'Delaware' 'District of Columbia' 'Florida' 'Georgia'\n",
        " 'Hawaii' 'Idaho' 'Illinois' 'Indiana' 'Iowa' 'Kansas' 'Kentucky'\n",
        " 'Louisiana' 'Maine' 'Maryland' 'Massachusetts' 'Michigan' 'Minnesota'\n",
        " 'Mississippi' 'Missouri' 'Montana' 'Nebraska' 'Nevada' 'New Hampshire'\n",
        " 'New Jersey' 'New Mexico' 'New York' 'North Carolina' 'North Dakota'\n",
        " 'Ohio' 'Oklahoma' 'Oregon' 'Pennsylvania' 'Rhode Island' 'South Carolina'\n",
        " 'South Dakota' 'Tennessee' 'Texas' 'Utah' 'Vermont' 'Virginia'\n",
        " 'Washington' 'West Virginia' 'Wisconsin' 'Wyoming']"
      ],
      "metadata": {
        "id": "8SVKVoTzOxsN"
      },
      "execution_count": null,
      "outputs": []
    },
    {
      "cell_type": "code",
      "source": [
        "alcoholCons_selected = alcoholCons[['State', 'Year', 'Beverage_Type','Gallons_of_Beverage', 'Gallons_of_Ethanol']]\n",
        "\n",
        "accidents_by_state_and_year_selected = accidents_by_state_and_year[['State', 'Year', 'Accident_Count']]\n",
        "\n",
        "merged_df = pd.merge(alcoholCons_selected, accidents_by_state_and_year_selected, on=['State', 'Year'], how='left')\n",
        "\n",
        "states_to_drop = ['Northeast Region', 'Midwest Region', 'South Region', 'West Region', 'United States']\n",
        "\n",
        "merged_df_filtered = merged_df[~merged_df['State'].isin(states_to_drop)]\n",
        "\n",
        "print(merged_df_filtered)"
      ],
      "metadata": {
        "colab": {
          "base_uri": "https://localhost:8080/"
        },
        "id": "o5y7w12CLHIg",
        "outputId": "2a134a18-9038-420f-d92b-5771a7ed8f5b"
      },
      "execution_count": 52,
      "outputs": [
        {
          "output_type": "stream",
          "name": "stdout",
          "text": [
            "             State  Year  Beverage_Type  Gallons_of_Beverage  \\\n",
            "0          Alabama  2021  All Beverages         1.107210e+08   \n",
            "1           Alaska  2021  All Beverages         1.814905e+07   \n",
            "2          Arizona  2021  All Beverages         1.778669e+08   \n",
            "3         Arkansas  2021  All Beverages         6.182710e+07   \n",
            "4       California  2021  All Beverages         1.048839e+09   \n",
            "..             ...   ...            ...                  ...   \n",
            "326       Virginia  2016  All Beverages         1.916542e+08   \n",
            "327     Washington  2016  All Beverages         1.638047e+08   \n",
            "328  West Virginia  2016  All Beverages         4.397014e+07   \n",
            "329      Wisconsin  2016  All Beverages         1.741276e+08   \n",
            "330        Wyoming  2016  All Beverages         1.502594e+07   \n",
            "\n",
            "     Gallons_of_Ethanol  Accident_Count  \n",
            "0               8689449          9664.0  \n",
            "1               1727627             NaN  \n",
            "2              14485013         24876.0  \n",
            "3               4888239          6023.0  \n",
            "4              92248901        323786.0  \n",
            "..                  ...             ...  \n",
            "326            14920067          2611.0  \n",
            "327            13579091          2861.0  \n",
            "328             2720033           398.0  \n",
            "329            14287976          1489.0  \n",
            "330             1270859            69.0  \n",
            "\n",
            "[306 rows x 6 columns]\n"
          ]
        }
      ]
    }
  ]
}
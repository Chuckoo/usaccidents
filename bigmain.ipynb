{
 "cells": [
  {
   "cell_type": "markdown",
   "metadata": {},
   "source": [
    "---\n",
    "---\n",
    "\n",
    "# Team B.I.G\n",
    "\n",
    "---\n",
    "---\n",
    "\n",
    "Submitted by:\n",
    "\n",
    " Vivek Venkateshprasad \\\n",
    " 862468868 \\\n",
    " vv002\n",
    "\n",
    " Prathik Somanath \\\n",
    " 862467832 \\\n",
    " psoma005\n",
    " \n",
    " Shubhank Joshi \\\n",
    " 862467912 \\\n",
    " sjosh052\n",
    " \n",
    " \n",
    " Kyle Russell \\\n",
    " 862302220 \\\n",
    " kruss020\n",
    "  \n",
    "\n",
    " ---\n",
    " ---"
   ]
  },
  {
   "cell_type": "markdown",
   "metadata": {},
   "source": [
    "Contributions of each team member\n",
    "\n",
    " Vivek Venkateshprasad - Data Cleaning(State Mapping), Geospatial analysis , DBSCAN, Holiday trends\n",
    "\n",
    " Prathik Somanath - Data Cleaning(Filtering and Groupby), Temporal analysis, DBSCAN, Holiday trends\n",
    "\n",
    " Shubhank Joshi - Data Cleaning(Exploratory data analysis), Heatmap generation, Correlation analysis\n",
    "\n",
    " Kyle Russell - Data Cleaning(Holiday Split), Choropleth maps, Correlation analysis"
   ]
  },
  {
   "cell_type": "markdown",
   "metadata": {},
   "source": [
    "---\n",
    "\n",
    "### Step 1: Downloading the dataset and performing Basic Cleaning\n",
    "\n",
    "---"
   ]
  },
  {
   "cell_type": "markdown",
   "metadata": {},
   "source": [
    "\n",
    "We download the accident dataset."
   ]
  },
  {
   "cell_type": "markdown",
   "metadata": {},
   "source": [
    "~~Only problem is ... Our accident dataset is Huuuuge, 7.7 Million Records Huge. None of our local computer could run this. So, we decided to use a smaller version of our dataset.~~\n",
    "\n",
    "~~https://huggingface.co/datasets/nateraw/us-accidents~~\n",
    "\n",
    "We managed to condense the large dataset to use it to account for the biased nature of the previous dataset\n"
   ]
  },
  {
   "cell_type": "code",
   "execution_count": 1,
   "metadata": {},
   "outputs": [
    {
     "name": "stderr",
     "output_type": "stream",
     "text": [
      "24/12/10 16:05:39 WARN Utils: Your hostname, prathik-ThinkPad-T14-Gen-1 resolves to a loopback address: 127.0.1.1; using 192.168.1.50 instead (on interface wlp0s20f3)\n",
      "24/12/10 16:05:39 WARN Utils: Set SPARK_LOCAL_IP if you need to bind to another address\n",
      "Setting default log level to \"WARN\".\n",
      "To adjust logging level use sc.setLogLevel(newLevel). For SparkR, use setLogLevel(newLevel).\n",
      "24/12/10 16:05:39 WARN NativeCodeLoader: Unable to load native-hadoop library for your platform... using builtin-java classes where applicable\n",
      "24/12/10 16:05:51 WARN GarbageCollectionMetrics: To enable non-built-in garbage collector(s) List(G1 Concurrent GC), users should configure it(them) to spark.eventLog.gcMetrics.youngGenerationGarbageCollectors or spark.eventLog.gcMetrics.oldGenerationGarbageCollectors\n",
      "                                                                                \r"
     ]
    }
   ],
   "source": [
    "from pyspark.sql import SparkSession\n",
    "from pyspark.sql.functions import col\n",
    "\n",
    "# Initialize Spark session\n",
    "spark = SparkSession.builder.appName(\"BigDataProcessing\").getOrCreate()\n",
    "\n",
    "# Load the CSV file with useful columns directly\n",
    "useful_columns = ['State', 'Severity', 'Start_Time', 'Start_Lat', 'Start_Lng']\n",
    "acc_df = spark.read.csv(\"acc.csv\", header=True, inferSchema=True).select(*useful_columns)\n",
    "\n",
    "# Save the filtered data to a new file\n",
    "acc_df.write.csv(\"data_filtered.csv\", header=True, mode=\"overwrite\")\n"
   ]
  },
  {
   "cell_type": "code",
   "execution_count": 2,
   "metadata": {},
   "outputs": [
    {
     "name": "stderr",
     "output_type": "stream",
     "text": [
      "                                                                                \r"
     ]
    },
    {
     "name": "stdout",
     "output_type": "stream",
     "text": [
      "+-----+--------+-------------------+-----------------+------------------+\n",
      "|State|Severity|         Start_Time|        Start_Lat|         Start_Lng|\n",
      "+-----+--------+-------------------+-----------------+------------------+\n",
      "|   OH|       3|2016-02-08 05:46:00|        39.865147|        -84.058723|\n",
      "|   OH|       2|2016-02-08 06:07:59|39.92805900000001|        -82.831184|\n",
      "|   OH|       2|2016-02-08 06:49:27|        39.063148|        -84.032608|\n",
      "|   OH|       3|2016-02-08 07:23:34|        39.747753|-84.20558199999998|\n",
      "|   OH|       2|2016-02-08 07:39:07|        39.627781|        -84.188354|\n",
      "+-----+--------+-------------------+-----------------+------------------+\n",
      "only showing top 5 rows\n",
      "\n"
     ]
    }
   ],
   "source": [
    "# Load the processed data\n",
    "data_df = spark.read.csv(\"data_filtered.csv\", header=True, inferSchema=True)\n",
    "\n",
    "# Show the first 5 rows\n",
    "data_df.show(5)\n"
   ]
  },
  {
   "cell_type": "markdown",
   "metadata": {},
   "source": [
    "We see that there are a lot columns which are not useful to us. We need to clean this data"
   ]
  },
  {
   "cell_type": "markdown",
   "metadata": {},
   "source": [
    "Let us take a look at all the columns and determine which is useful to us"
   ]
  },
  {
   "cell_type": "code",
   "execution_count": 3,
   "metadata": {},
   "outputs": [
    {
     "data": {
      "text/plain": [
       "['State', 'Severity', 'Start_Time', 'Start_Lat', 'Start_Lng']"
      ]
     },
     "execution_count": 3,
     "metadata": {},
     "output_type": "execute_result"
    }
   ],
   "source": [
    "data_df.columns"
   ]
  },
  {
   "cell_type": "code",
   "execution_count": 4,
   "metadata": {},
   "outputs": [
    {
     "name": "stdout",
     "output_type": "stream",
     "text": [
      "+-----+--------+-------------------+-----------------+------------------+\n",
      "|State|Severity|         Start_Time|        Start_Lat|         Start_Lng|\n",
      "+-----+--------+-------------------+-----------------+------------------+\n",
      "|   OH|       3|2016-02-08 05:46:00|        39.865147|        -84.058723|\n",
      "|   OH|       2|2016-02-08 06:07:59|39.92805900000001|        -82.831184|\n",
      "|   OH|       2|2016-02-08 06:49:27|        39.063148|        -84.032608|\n",
      "|   OH|       3|2016-02-08 07:23:34|        39.747753|-84.20558199999998|\n",
      "|   OH|       2|2016-02-08 07:39:07|        39.627781|        -84.188354|\n",
      "+-----+--------+-------------------+-----------------+------------------+\n",
      "only showing top 5 rows\n",
      "\n"
     ]
    }
   ],
   "source": [
    "useful_columns = ['State', 'Severity', 'Start_Time','Start_Lat','Start_Lng']\n",
    "data_df = data_df.select(*useful_columns)\n",
    "data_df.show(5)"
   ]
  },
  {
   "cell_type": "code",
   "execution_count": null,
   "metadata": {},
   "outputs": [],
   "source": []
  },
  {
   "cell_type": "markdown",
   "metadata": {},
   "source": [
    "Okay, that looks good. Now, we need to merge this with the accident dataset. Let us load that up from here:\n",
    "\n",
    "https://www.gigasheet.com/sample-data/per-capita-us-alcohol-consumption"
   ]
  },
  {
   "cell_type": "code",
   "execution_count": 5,
   "metadata": {},
   "outputs": [
    {
     "name": "stdout",
     "output_type": "stream",
     "text": [
      "+----+-------+-------------+-------------------+------------------+------------------+--------------------------+--------------+------------------+--------------------------+--------------+----------------+----------------+---------------------------+\n",
      "|Year|  State|Beverage_Type|Gallons_of_Beverage|Gallons_of_Ethanol|Population_14_Plus|Ethanol_Per_Capita_14_Plus|Decile_14_Plus|Population_21_Plus|Ethanol_Per_Capita_21_Plus|Decile_21_Plus|Data_Source_Type|Time_Varying_ABV|Gallons_of_Ethanol_from_ABV|\n",
      "+----+-------+-------------+-------------------+------------------+------------------+--------------------------+--------------+------------------+--------------------------+--------------+----------------+----------------+---------------------------+\n",
      "|1970|Alabama|      Spirits|            3863000|           1738350|            249900|                      6956|             9|            202000|                      8606|             9|               .|            NULL|                       NULL|\n",
      "|1970|Alabama|         Wine|            1412000|            225920|            249900|                       904|             9|            202000|                      1118|             9|               .|            NULL|                       NULL|\n",
      "|1970|Alabama|         Beer|           33098000|           1489410|            249900|                      5960|            10|            202000|                      7373|            10|               .|            NULL|                       NULL|\n",
      "|1970|Alabama|All Beverages|               NULL|           3453680|            249900|                     13820|            10|            202000|                     17097|            10|               .|            NULL|                       NULL|\n",
      "|1970| Alaska|      Spirits|             945000|            425250|             20500|                     20744|             1|             16500|                     25773|             1|               .|            NULL|                       NULL|\n",
      "+----+-------+-------------+-------------------+------------------+------------------+--------------------------+--------------+------------------+--------------------------+--------------+----------------+----------------+---------------------------+\n",
      "only showing top 5 rows\n",
      "\n"
     ]
    }
   ],
   "source": [
    "alcohol_df = spark.read.csv(\"alcohol.csv\", header=True, inferSchema=True)\n",
    "alcohol_df.show(5)"
   ]
  },
  {
   "cell_type": "markdown",
   "metadata": {},
   "source": [
    "Let us look at the available columns in this dataset"
   ]
  },
  {
   "cell_type": "code",
   "execution_count": 6,
   "metadata": {},
   "outputs": [
    {
     "data": {
      "text/plain": [
       "['Year',\n",
       " 'State',\n",
       " 'Beverage_Type',\n",
       " 'Gallons_of_Beverage',\n",
       " 'Gallons_of_Ethanol',\n",
       " 'Population_14_Plus',\n",
       " 'Ethanol_Per_Capita_14_Plus',\n",
       " 'Decile_14_Plus',\n",
       " 'Population_21_Plus',\n",
       " 'Ethanol_Per_Capita_21_Plus',\n",
       " 'Decile_21_Plus',\n",
       " 'Data_Source_Type',\n",
       " 'Time_Varying_ABV',\n",
       " 'Gallons_of_Ethanol_from_ABV']"
      ]
     },
     "execution_count": 6,
     "metadata": {},
     "output_type": "execute_result"
    }
   ],
   "source": [
    "alcohol_df.columns"
   ]
  },
  {
   "cell_type": "markdown",
   "metadata": {},
   "source": [
    "We don't have any age groups mentioned in our dataset, so we need to remove it. We also do not care about how many beverages a person had. We just care about how drunk they got and that can be extracted from the \"Gallons_of_ethanol\" column. We also need to merge the populations and get the total population to get a new ethanol_per_capita column."
   ]
  },
  {
   "cell_type": "code",
   "execution_count": 7,
   "metadata": {},
   "outputs": [
    {
     "name": "stdout",
     "output_type": "stream",
     "text": [
      "+----+-------+-------------+------------------+------------------+------------------+\n",
      "|Year|  State|Beverage_Type|Gallons_of_Ethanol|Population_14_Plus|Population_21_Plus|\n",
      "+----+-------+-------------+------------------+------------------+------------------+\n",
      "|1970|Alabama|      Spirits|           1738350|            249900|            202000|\n",
      "|1970|Alabama|         Wine|            225920|            249900|            202000|\n",
      "|1970|Alabama|         Beer|           1489410|            249900|            202000|\n",
      "|1970|Alabama|All Beverages|           3453680|            249900|            202000|\n",
      "|1970| Alaska|      Spirits|            425250|             20500|             16500|\n",
      "+----+-------+-------------+------------------+------------------+------------------+\n",
      "only showing top 5 rows\n",
      "\n"
     ]
    }
   ],
   "source": [
    "# Select useful columns\n",
    "useful_columns = ['Year', 'State', 'Beverage_Type', 'Gallons_of_Ethanol', 'Population_14_Plus', 'Population_21_Plus']\n",
    "alcohol_df = alcohol_df.select(*useful_columns)\n",
    "\n",
    "# Show the first 5 rows\n",
    "alcohol_df.show(5)"
   ]
  },
  {
   "cell_type": "markdown",
   "metadata": {},
   "source": [
    "We can immediately see a problem here. There is a semantic mismatch in the state names from the first column to the second.\n",
    "\n",
    "For example, \n",
    "\n",
    "df1[\"State\"] = \"OH\"\n",
    "\n",
    "df2[\"State\"] = \"Ohio\"\n",
    "\n",
    "Let us fix this"
   ]
  },
  {
   "cell_type": "markdown",
   "metadata": {},
   "source": [
    "I found this mapping dictionary here: https://gist.github.com/mshafrir/2646763"
   ]
  },
  {
   "cell_type": "code",
   "execution_count": 8,
   "metadata": {},
   "outputs": [],
   "source": [
    "state_abbreviation_to_full_name = {\n",
    "    'AL': 'Alabama', 'AK': 'Alaska', 'AZ': 'Arizona', 'AR': 'Arkansas', 'CA': 'California',\n",
    "    'CO': 'Colorado', 'CT': 'Connecticut', 'DC': 'District of Columbia', 'DE': 'Delaware',\n",
    "    'FL': 'Florida', 'GA': 'Georgia', 'HI': 'Hawaii', 'ID': 'Idaho', 'IL': 'Illinois',\n",
    "    'IN': 'Indiana', 'IA': 'Iowa', 'KS': 'Kansas', 'KY': 'Kentucky', 'LA': 'Louisiana',\n",
    "    'ME': 'Maine', 'MD': 'Maryland', 'MA': 'Massachusetts', 'MI': 'Michigan', 'MN': 'Minnesota',\n",
    "    'MS': 'Mississippi', 'MO': 'Missouri', 'MT': 'Montana', 'NE': 'Nebraska', 'NV': 'Nevada',\n",
    "    'NH': 'New Hampshire', 'NJ': 'New Jersey', 'NM': 'New Mexico', 'NY': 'New York',\n",
    "    'NC': 'North Carolina', 'ND': 'North Dakota', 'OH': 'Ohio', 'OK': 'Oklahoma', 'OR': 'Oregon',\n",
    "    'PA': 'Pennsylvania', 'RI': 'Rhode Island', 'SC': 'South Carolina', 'SD': 'South Dakota',\n",
    "    'TN': 'Tennessee', 'TX': 'Texas', 'UT': 'Utah', 'VT': 'Vermont', 'VA': 'Virginia',\n",
    "    'WA': 'Washington', 'WV': 'West Virginia', 'WI': 'Wisconsin', 'WY': 'Wyoming'\n",
    "}"
   ]
  },
  {
   "cell_type": "code",
   "execution_count": 9,
   "metadata": {},
   "outputs": [
    {
     "name": "stderr",
     "output_type": "stream",
     "text": [
      "[Stage 11:>                                                         (0 + 1) / 1]\r"
     ]
    },
    {
     "name": "stdout",
     "output_type": "stream",
     "text": [
      "+-----+--------+-------------------+-----------------+------------------+\n",
      "|State|Severity|         Start_Time|        Start_Lat|         Start_Lng|\n",
      "+-----+--------+-------------------+-----------------+------------------+\n",
      "| Ohio|       3|2016-02-08 05:46:00|        39.865147|        -84.058723|\n",
      "| Ohio|       2|2016-02-08 06:07:59|39.92805900000001|        -82.831184|\n",
      "| Ohio|       2|2016-02-08 06:49:27|        39.063148|        -84.032608|\n",
      "| Ohio|       3|2016-02-08 07:23:34|        39.747753|-84.20558199999998|\n",
      "| Ohio|       2|2016-02-08 07:39:07|        39.627781|        -84.188354|\n",
      "+-----+--------+-------------------+-----------------+------------------+\n",
      "only showing top 5 rows\n",
      "\n"
     ]
    },
    {
     "name": "stderr",
     "output_type": "stream",
     "text": [
      "                                                                                \r"
     ]
    }
   ],
   "source": [
    "# data_df[\"State\"] = data_df[\"State\"].replace(state_abbreviation_to_full_name)\n",
    "# data_df.head(5)\n",
    "\n",
    "from pyspark.sql.functions import udf\n",
    "from pyspark.sql.types import StringType\n",
    "\n",
    "# Define a UDF to map abbreviations to full names\n",
    "state_mapping_udf = udf(lambda abbr: state_abbreviation_to_full_name.get(abbr, abbr), StringType())\n",
    "\n",
    "# Apply the mapping to the \"State\" column\n",
    "data_df = data_df.withColumn(\"State\", state_mapping_udf(col(\"State\")))\n",
    "\n",
    "# Show the updated DataFrame\n",
    "# data_df.head(5)\n",
    "data_df.show(5)"
   ]
  },
  {
   "cell_type": "markdown",
   "metadata": {},
   "source": [
    "Looks good. Now we need to add the popualtions of the two columns and create a new column just called \"population\" in the alcohol dataset. Then calculate the new ethanol per capita"
   ]
  },
  {
   "cell_type": "code",
   "execution_count": 10,
   "metadata": {},
   "outputs": [
    {
     "name": "stdout",
     "output_type": "stream",
     "text": [
      "+----+-------+-------------+------------------+----------+------------------+\n",
      "|Year|  State|Beverage_Type|Gallons_of_Ethanol|Population|Ethanol_per_capita|\n",
      "+----+-------+-------------+------------------+----------+------------------+\n",
      "|1970|Alabama|      Spirits|           1738350|    451900|            3847.0|\n",
      "|1970|Alabama|         Wine|            225920|    451900|             500.0|\n",
      "|1970|Alabama|         Beer|           1489410|    451900|            3296.0|\n",
      "|1970|Alabama|All Beverages|           3453680|    451900|            7643.0|\n",
      "|1970| Alaska|      Spirits|            425250|     37000|           11493.0|\n",
      "+----+-------+-------------+------------------+----------+------------------+\n",
      "only showing top 5 rows\n",
      "\n"
     ]
    }
   ],
   "source": [
    "from pyspark.sql.functions import col, lit, when, round, to_date, year, date_format\n",
    "\n",
    "alcohol_df = alcohol_df.withColumn('Population', col('Population_14_Plus') + col('Population_21_Plus'))\n",
    "alcohol_df = alcohol_df.withColumn('Ethanol_per_capita', round((col('Gallons_of_Ethanol') / col('Population')) * 1000))\n",
    "\n",
    "alcohol_df = alcohol_df.drop('Population_14_Plus', 'Population_21_Plus')\n",
    "\n",
    "alcohol_df.show(5)"
   ]
  },
  {
   "cell_type": "markdown",
   "metadata": {},
   "source": [
    "Okay, Now our accident dataset only is present from 2016 - 2021. So, all the data previous and after it is useless to us. Let us clean this out"
   ]
  },
  {
   "cell_type": "code",
   "execution_count": 11,
   "metadata": {},
   "outputs": [
    {
     "name": "stdout",
     "output_type": "stream",
     "text": [
      "+----+-------+-------------+------------------+----------+------------------+\n",
      "|Year|  State|Beverage_Type|Gallons_of_Ethanol|Population|Ethanol_per_capita|\n",
      "+----+-------+-------------+------------------+----------+------------------+\n",
      "|2016|Alabama|      Spirits|           2631168|    760007|            3462.0|\n",
      "|2016|Alabama|         Wine|           1043962|    760007|            1374.0|\n",
      "|2016|Alabama|         Beer|           4401225|    760007|            5791.0|\n",
      "|2016|Alabama|All Beverages|           8076355|    760007|           10627.0|\n",
      "|2016| Alaska|      Spirits|            732610|    112306|            6523.0|\n",
      "+----+-------+-------------+------------------+----------+------------------+\n",
      "only showing top 5 rows\n",
      "\n"
     ]
    }
   ],
   "source": [
    "alcohol_df = alcohol_df.filter((col('Year') > 2015) & (col('Year') < 2022))\n",
    "alcohol_df.show(5)"
   ]
  },
  {
   "cell_type": "code",
   "execution_count": 12,
   "metadata": {},
   "outputs": [
    {
     "name": "stdout",
     "output_type": "stream",
     "text": [
      "Number of unique states: 56\n"
     ]
    }
   ],
   "source": [
    "num_states = alcohol_df.select('State').distinct().count()\n",
    "print(f'Number of unique states: {num_states}')"
   ]
  },
  {
   "cell_type": "markdown",
   "metadata": {},
   "source": [
    "This doesn't seem right. Last time I checked there were 50 States + D.C. So why are there 56 entries ?\n",
    "\n",
    "On closer inspection we see some data for 'Northeast Region', 'Midwest Region', 'South Region', 'West Region', 'United States' . We can drop these"
   ]
  },
  {
   "cell_type": "code",
   "execution_count": 13,
   "metadata": {},
   "outputs": [
    {
     "name": "stdout",
     "output_type": "stream",
     "text": [
      "Number of unique states: 51\n"
     ]
    }
   ],
   "source": [
    "states_to_drop = ['Northeast Region', 'Midwest Region', 'South Region', 'West Region', 'United States']\n",
    "alcohol_df = alcohol_df.filter(~col('State').isin(states_to_drop))\n",
    "num_states = alcohol_df.select('State').distinct().count()\n",
    "print(f'Number of unique states: {num_states}')"
   ]
  },
  {
   "cell_type": "markdown",
   "metadata": {},
   "source": [
    "This looks better.\n",
    "\n",
    "This marks and end of our basic cleaning"
   ]
  },
  {
   "cell_type": "markdown",
   "metadata": {},
   "source": [
    "---\n",
    "\n",
    "### Step 2:\n",
    "### Processing Data for visualizations and further analysis\n",
    "\n",
    "---\n",
    "\n",
    "\n",
    "\n",
    "\n",
    "#### Processing Accident Data by State and Year\n",
    "This code snippet demonstrates how to process the accident data by converting date information, handling missing values, extracting year, and aggregating accident counts by state and year."
   ]
  },
  {
   "cell_type": "markdown",
   "metadata": {},
   "source": [
    "First, let us first fix the datetime format in our accident dataset"
   ]
  },
  {
   "cell_type": "code",
   "execution_count": 14,
   "metadata": {},
   "outputs": [
    {
     "name": "stdout",
     "output_type": "stream",
     "text": [
      "+-----+--------+----------+-----------------+----------+-----------+----------+----+\n",
      "|State|Severity|Start_Time|        Start_Lat| Start_Lng|Day_of_Week|      Date|Year|\n",
      "+-----+--------+----------+-----------------+----------+-----------+----------+----+\n",
      "| Ohio|       3|2016-02-08|        39.865147|-84.058723|     Monday|2016-02-08|2016|\n",
      "| Ohio|       2|2016-02-08|39.92805900000001|-82.831184|     Monday|2016-02-08|2016|\n",
      "+-----+--------+----------+-----------------+----------+-----------+----------+----+\n",
      "only showing top 2 rows\n",
      "\n"
     ]
    }
   ],
   "source": [
    "# df['Start_Time'] = pd.to_datetime(df['Start_Time'], format='mixed') # it has multiple datetime formats hence mixed\n",
    "data_df = data_df.withColumn('Start_Time', to_date(col('Start_Time'), 'yyyy-MM-dd HH:mm:ss'))\n",
    "\n",
    "# Create new columns for day of the week, date, and year\n",
    "data_df = data_df.withColumn('Day_of_Week', date_format(col('Start_Time'), 'EEEE'))\n",
    "data_df = data_df.withColumn('Date', col('Start_Time').cast('date'))\n",
    "data_df = data_df.withColumn('Year', year(col('Start_Time')))\n",
    "data_df = data_df.filter((col('Year') > 2015) & (col('Year') < 2022))\n",
    "data_df.show(2)"
   ]
  },
  {
   "cell_type": "markdown",
   "metadata": {},
   "source": [
    "Let us now count the accidents and group them by the state and year"
   ]
  },
  {
   "cell_type": "code",
   "execution_count": 15,
   "metadata": {},
   "outputs": [
    {
     "name": "stderr",
     "output_type": "stream",
     "text": [
      "[Stage 27:===================================================>     (9 + 1) / 10]\r"
     ]
    },
    {
     "name": "stdout",
     "output_type": "stream",
     "text": [
      "+-------------+----+--------------+\n",
      "|        State|Year|Accident_Count|\n",
      "+-------------+----+--------------+\n",
      "|     Maryland|2016|          7542|\n",
      "|West Virginia|2017|           700|\n",
      "|   California|2017|        152748|\n",
      "|     Nebraska|2018|          5850|\n",
      "|      Indiana|2018|         13708|\n",
      "|         Iowa|2017|          3016|\n",
      "+-------------+----+--------------+\n",
      "only showing top 6 rows\n",
      "\n"
     ]
    },
    {
     "name": "stderr",
     "output_type": "stream",
     "text": [
      "                                                                                \r"
     ]
    }
   ],
   "source": [
    "accidents_by_state_and_year = data_df.groupBy('State', 'Year').count().withColumnRenamed('count', 'Accident_Count')\n",
    "accidents_by_state_and_year.show(6)"
   ]
  },
  {
   "cell_type": "markdown",
   "metadata": {},
   "source": [
    "#### Merging Alcohol Consumption and Accident Data by State and Year\n",
    "\n",
    "This code snippet merges two datasets, one on alcohol consumption and the other on accident counts, by state and year. It then filters out regional aggregate rows, focusing on specific states."
   ]
  },
  {
   "cell_type": "code",
   "execution_count": 16,
   "metadata": {},
   "outputs": [
    {
     "name": "stderr",
     "output_type": "stream",
     "text": [
      "[Stage 31:===================================================>     (9 + 1) / 10]\r"
     ]
    },
    {
     "name": "stdout",
     "output_type": "stream",
     "text": [
      "+-------------+----+-------------+------------------+----------+------------------+--------------+\n",
      "|        State|Year|Beverage_Type|Gallons_of_Ethanol|Population|Ethanol_per_capita|Accident_Count|\n",
      "+-------------+----+-------------+------------------+----------+------------------+--------------+\n",
      "|     Maryland|2016|      Spirits|           4589620|    939751|            4884.0|          7542|\n",
      "|     Maryland|2016|         Wine|           1987553|    939751|            2115.0|          7542|\n",
      "|     Maryland|2016|         Beer|           4134870|    939751|            4400.0|          7542|\n",
      "|     Maryland|2016|All Beverages|          10712042|    939751|           11399.0|          7542|\n",
      "|West Virginia|2017|      Spirits|            708427|    291765|            2428.0|           700|\n",
      "+-------------+----+-------------+------------------+----------+------------------+--------------+\n",
      "only showing top 5 rows\n",
      "\n"
     ]
    },
    {
     "name": "stderr",
     "output_type": "stream",
     "text": [
      "                                                                                \r"
     ]
    }
   ],
   "source": [
    "merged_df = alcohol_df.join(accidents_by_state_and_year, on=['State', 'Year'], how='left').na.drop()\n",
    "\n",
    "merged_df.show(5)\n"
   ]
  },
  {
   "cell_type": "code",
   "execution_count": 17,
   "metadata": {},
   "outputs": [
    {
     "name": "stderr",
     "output_type": "stream",
     "text": [
      "[Stage 37:===================================================>     (9 + 1) / 10]\r"
     ]
    },
    {
     "name": "stdout",
     "output_type": "stream",
     "text": [
      "+-------------+----+-------------+------------------+----------+------------------+--------------+\n",
      "|        State|Year|Beverage_Type|Gallons_of_Ethanol|Population|Ethanol_per_capita|Accident_Count|\n",
      "+-------------+----+-------------+------------------+----------+------------------+--------------+\n",
      "|     Maryland|2016|All Beverages|          10712042|    939751|           11399.0|          7542|\n",
      "|West Virginia|2017|All Beverages|           2670740|    291765|            9154.0|           700|\n",
      "|   California|2017|All Beverages|          74831620|   6106431|           12255.0|        152748|\n",
      "|     Nebraska|2018|All Beverages|           3378389|    292126|           11565.0|          5850|\n",
      "|      Indiana|2018|All Beverages|          11785520|   1033008|           11409.0|         13708|\n",
      "+-------------+----+-------------+------------------+----------+------------------+--------------+\n",
      "only showing top 5 rows\n",
      "\n"
     ]
    },
    {
     "name": "stderr",
     "output_type": "stream",
     "text": [
      "                                                                                \r"
     ]
    }
   ],
   "source": [
    "#Let us take the data for all the beverages.\n",
    "merged_df_all_beverages = merged_df.filter(col('Beverage_Type') == 'All Beverages')\n",
    "\n",
    "merged_df_all_beverages.show(5)"
   ]
  },
  {
   "cell_type": "markdown",
   "metadata": {},
   "source": [
    "Okay that's good. Way to go Arkansas you have very less accidents. However, we need to find out the accident per capita to get the true picture. Lets create a column for that"
   ]
  },
  {
   "cell_type": "code",
   "execution_count": 18,
   "metadata": {},
   "outputs": [
    {
     "name": "stderr",
     "output_type": "stream",
     "text": [
      "[Stage 43:===================================================>     (9 + 1) / 10]\r"
     ]
    },
    {
     "name": "stdout",
     "output_type": "stream",
     "text": [
      "+-------------+----+-------------+------------------+----------+------------------+--------------+--------------------+\n",
      "|        State|Year|Beverage_Type|Gallons_of_Ethanol|Population|Ethanol_per_capita|Accident_Count|Accidents_per_capita|\n",
      "+-------------+----+-------------+------------------+----------+------------------+--------------+--------------------+\n",
      "|     Maryland|2016|All Beverages|          10712042|    939751|           11399.0|          7542|                80.0|\n",
      "|West Virginia|2017|All Beverages|           2670740|    291765|            9154.0|           700|                24.0|\n",
      "|   California|2017|All Beverages|          74831620|   6106431|           12255.0|        152748|               250.0|\n",
      "|     Nebraska|2018|All Beverages|           3378389|    292126|           11565.0|          5850|               200.0|\n",
      "|      Indiana|2018|All Beverages|          11785520|   1033008|           11409.0|         13708|               133.0|\n",
      "+-------------+----+-------------+------------------+----------+------------------+--------------+--------------------+\n",
      "only showing top 5 rows\n",
      "\n"
     ]
    },
    {
     "name": "stderr",
     "output_type": "stream",
     "text": [
      "                                                                                \r"
     ]
    }
   ],
   "source": [
    "merged_df_all_beverages = merged_df_all_beverages.withColumn(\n",
    "    'Accidents_per_capita', \n",
    "    round((col('Accident_Count') / col('Population')) * 10000)\n",
    ")\n",
    "merged_df_all_beverages.show(5)"
   ]
  },
  {
   "cell_type": "code",
   "execution_count": 19,
   "metadata": {},
   "outputs": [
    {
     "name": "stderr",
     "output_type": "stream",
     "text": [
      "                                                                                \r"
     ]
    },
    {
     "name": "stdout",
     "output_type": "stream",
     "text": [
      "Number of unique states: 49\n"
     ]
    }
   ],
   "source": [
    "num_states = merged_df_all_beverages.select('State').distinct().count()\n",
    "print(f'Number of unique states: {num_states}')"
   ]
  },
  {
   "cell_type": "markdown",
   "metadata": {},
   "source": [
    "Seems like there are a couple of states missing. They are Hawaii and Alaska for the accidents."
   ]
  },
  {
   "cell_type": "markdown",
   "metadata": {},
   "source": [
    "Had to add a multiplier of 10000 because some states had way too few accidents compared to people. Still Arkansas looks to be doing well. Go Arkansas !"
   ]
  },
  {
   "cell_type": "markdown",
   "metadata": {},
   "source": [
    "#### Holiday trend analysis \n",
    "Now we need to add more columns to our dataframe to analyze accident trends. Whether they have occured during holidays, which day of the week, etc.. "
   ]
  },
  {
   "cell_type": "code",
   "execution_count": 20,
   "metadata": {},
   "outputs": [
    {
     "name": "stdout",
     "output_type": "stream",
     "text": [
      "2024-01-01 New Year's Day\n",
      "2024-01-15 Martin Luther King Jr. Day\n",
      "2024-02-19 Washington's Birthday\n",
      "2024-05-27 Memorial Day\n",
      "2024-06-19 Juneteenth National Independence Day\n",
      "2024-07-04 Independence Day\n",
      "2024-09-02 Labor Day\n",
      "2024-11-11 Veterans Day\n",
      "2024-11-28 Thanksgiving\n",
      "2024-12-25 Christmas Day\n"
     ]
    }
   ],
   "source": [
    "import holidays\n",
    "#this package will provide us the list of dates of holidays\n",
    "for date, name in sorted(holidays.US(years=2024).items()):\n",
    "    print(date, name)"
   ]
  },
  {
   "cell_type": "code",
   "execution_count": 21,
   "metadata": {},
   "outputs": [
    {
     "name": "stdout",
     "output_type": "stream",
     "text": [
      "+-----+--------+----------+-----------------+------------------+-----------+----------+----+------------+\n",
      "|State|Severity|Start_Time|        Start_Lat|         Start_Lng|Day_of_Week|      Date|Year|Holiday_Name|\n",
      "+-----+--------+----------+-----------------+------------------+-----------+----------+----+------------+\n",
      "| Ohio|       3|2016-02-08|        39.865147|        -84.058723|     Monday|2016-02-08|2016|        NULL|\n",
      "| Ohio|       2|2016-02-08|39.92805900000001|        -82.831184|     Monday|2016-02-08|2016|        NULL|\n",
      "| Ohio|       2|2016-02-08|        39.063148|        -84.032608|     Monday|2016-02-08|2016|        NULL|\n",
      "| Ohio|       3|2016-02-08|        39.747753|-84.20558199999998|     Monday|2016-02-08|2016|        NULL|\n",
      "| Ohio|       2|2016-02-08|        39.627781|        -84.188354|     Monday|2016-02-08|2016|        NULL|\n",
      "+-----+--------+----------+-----------------+------------------+-----------+----------+----+------------+\n",
      "only showing top 5 rows\n",
      "\n"
     ]
    }
   ],
   "source": [
    "# List of US holidays\n",
    "from datetime import timedelta\n",
    "us_holidays = holidays.US()\n",
    "\n",
    "broadcast_us_holidays = spark.sparkContext.broadcast(us_holidays)\n",
    "\n",
    "# UDF to determine holiday name (or nearby holiday name within -1, 0, +1 days)\n",
    "def which_holiday(x):\n",
    "    for i in [-1, 0, 1]:\n",
    "        adjusted_date = x + timedelta(days=i)\n",
    "        if adjusted_date in broadcast_us_holidays.value:\n",
    "            return broadcast_us_holidays.value.get(adjusted_date)\n",
    "    return None\n",
    "\n",
    "which_holiday_udf = udf(which_holiday, StringType())\n",
    "\n",
    "# Add Holiday Name column\n",
    "data_df = data_df.withColumn(\"Holiday_Name\", which_holiday_udf(col(\"Start_Time\")))\n",
    "data_df.show(5)"
   ]
  },
  {
   "cell_type": "code",
   "execution_count": 22,
   "metadata": {},
   "outputs": [
    {
     "name": "stderr",
     "output_type": "stream",
     "text": [
      "[Stage 62:>                                                         (0 + 1) / 1]\r"
     ]
    },
    {
     "name": "stdout",
     "output_type": "stream",
     "text": [
      "+----------+--------+----------+---------+-------------------+-----------+----------+----+-------------+\n",
      "|     State|Severity|Start_Time|Start_Lat|          Start_Lng|Day_of_Week|      Date|Year| Holiday_Name|\n",
      "+----------+--------+----------+---------+-------------------+-----------+----------+----+-------------+\n",
      "|California|       2|2016-12-24|38.823105|-123.02741999999999|   Saturday|2016-12-24|2016|Christmas Day|\n",
      "|California|       3|2016-12-24|37.507172|-122.33852399999999|   Saturday|2016-12-24|2016|Christmas Day|\n",
      "|California|       2|2016-12-24|37.724007|        -122.401474|   Saturday|2016-12-24|2016|Christmas Day|\n",
      "|California|       2|2016-12-24|37.383385|        -122.069557|   Saturday|2016-12-24|2016|Christmas Day|\n",
      "|California|       3|2016-12-24|37.317062|-121.94058999999999|   Saturday|2016-12-24|2016|Christmas Day|\n",
      "+----------+--------+----------+---------+-------------------+-----------+----------+----+-------------+\n",
      "only showing top 5 rows\n",
      "\n"
     ]
    },
    {
     "name": "stderr",
     "output_type": "stream",
     "text": [
      "                                                                                \r"
     ]
    }
   ],
   "source": [
    "holiday_df = data_df.filter(col(\"Holiday_Name\") == \"Christmas Day\")\n",
    "holiday_df.show(5)"
   ]
  },
  {
   "cell_type": "markdown",
   "metadata": {},
   "source": [
    "#### Now our data is all clean and ready for visualizations. We can use these various datasets we have integrated to extract different type of information"
   ]
  },
  {
   "cell_type": "markdown",
   "metadata": {},
   "source": [
    "---\n",
    "---"
   ]
  },
  {
   "cell_type": "markdown",
   "metadata": {},
   "source": [
    "# Data Visualization"
   ]
  },
  {
   "cell_type": "markdown",
   "metadata": {},
   "source": [
    "*Note: There are some changes from the previous data cleaning ipynb. \n",
    "1. We have now added +1,-1 to the days to adjust for the holiday eves and when people might be travelling.\n",
    "2. We have gathered data from a bigger dataset to account for the biased data present in our previous dataset.\n",
    "3. Clearly pointed out that the population size is of the drinking population. Not the total."
   ]
  },
  {
   "cell_type": "markdown",
   "metadata": {},
   "source": [
    "Let us see which day has the most number of accidents on"
   ]
  },
  {
   "cell_type": "code",
   "execution_count": 23,
   "metadata": {},
   "outputs": [
    {
     "name": "stderr",
     "output_type": "stream",
     "text": [
      "                                                                                \r"
     ]
    }
   ],
   "source": [
    "import matplotlib.pyplot as plt\n",
    "\n",
    "# Extract month-day from Date column\n",
    "data_df = data_df.withColumn(\"Month-Day\", date_format(col(\"Date\"), \"MM-dd\"))\n",
    "\n",
    "# Group by month-day and count occurrences\n",
    "top_10_counts = (\n",
    "    data_df.groupBy(\"Month-Day\")\n",
    "    .count()\n",
    "    .orderBy(col(\"count\").desc())\n",
    "    .limit(10)\n",
    ")\n",
    "\n",
    "# Collect the data for visualization\n",
    "top_10_counts_local = top_10_counts.toPandas()\n",
    "\n",
    "holiday_counts = data_df.groupBy(\"Holiday_Name\").count()\n",
    "\n",
    "# Need to fix the data for nice visual on the graph\n",
    "holiday_aliases = {\n",
    "    \"New Year's Day\": \"New Year's\",\n",
    "    \"New Year's Day (observed)\": \"New Year's\",\n",
    "    \"Christmas Day\": \"Christmas\",\n",
    "    \"Christmas Day (observed)\": \"Christmas\",\n",
    "    \"Juneteenth National Independence Day\": \"Juneteenth\",\n",
    "    \"Juneteenth National Independence Day (observed)\": \"Juneteenth\",\n",
    "    \"Martin Luther King Jr. Day\": \"MLK Jr. Day\",\n",
    "    \"Washington's Birthday\": \"President's Day\",\n",
    "    \"Veterans Day\": \"Veterans Day\",\n",
    "    \"Veterans Day (observed)\": \"Veterans Day\",\n",
    "    \"Independence Day\": \"Independence Day\",\n",
    "    \"Independence Day (observed)\": \"Independence Day\",\n",
    "}\n",
    "\n",
    "# Replace holiday names with aliases\n",
    "for observed, alias in holiday_aliases.items():\n",
    "    holiday_counts = holiday_counts.withColumn(\n",
    "        \"Holiday_Name\",\n",
    "        when(col(\"Holiday_Name\") == observed, lit(alias)).otherwise(col(\"Holiday_Name\"))\n",
    "    )\n",
    "\n",
    "# Aggregate the counts for combined holiday names\n",
    "holiday_counts = holiday_counts.groupBy(\"Holiday_Name\").sum(\"count\").withColumnRenamed(\"sum(count)\", \"Accident_Count\")\n"
   ]
  },
  {
   "cell_type": "code",
   "execution_count": 24,
   "metadata": {},
   "outputs": [
    {
     "name": "stderr",
     "output_type": "stream",
     "text": [
      "[Stage 66:===================================================>     (9 + 1) / 10]\r"
     ]
    },
    {
     "name": "stdout",
     "output_type": "stream",
     "text": [
      "+----------------+--------------+\n",
      "|    Holiday_Name|Accident_Count|\n",
      "+----------------+--------------+\n",
      "|      Juneteenth|         17588|\n",
      "| President's Day|         44477|\n",
      "|    Veterans Day|         72518|\n",
      "|            NULL|       5284324|\n",
      "|Independence Day|         38118|\n",
      "|     MLK Jr. Day|         39224|\n",
      "|       Christmas|         50328|\n",
      "|      New Year's|         48662|\n",
      "|    Thanksgiving|         54419|\n",
      "|    Memorial Day|         31544|\n",
      "|       Labor Day|         38107|\n",
      "+----------------+--------------+\n",
      "\n"
     ]
    },
    {
     "name": "stderr",
     "output_type": "stream",
     "text": [
      "                                                                                \r"
     ]
    }
   ],
   "source": [
    "holiday_counts.show()"
   ]
  },
  {
   "cell_type": "code",
   "execution_count": 25,
   "metadata": {},
   "outputs": [
    {
     "name": "stderr",
     "output_type": "stream",
     "text": [
      "                                                                                \r"
     ]
    },
    {
     "data": {
      "text/plain": [
       "<Figure size 1000x600 with 0 Axes>"
      ]
     },
     "metadata": {},
     "output_type": "display_data"
    },
    {
     "data": {
      "image/png": "[encoded data removed]",
      "text/plain": [
       "<Figure size 640x480 with 1 Axes>"
      ]
     },
     "metadata": {},
     "output_type": "display_data"
    }
   ],
   "source": [
    "holiday_counts_local = holiday_counts.toPandas().dropna()\n",
    "\n",
    "# Plot holiday accident counts\n",
    "plt.figure(figsize=(10, 6))\n",
    "holiday_counts_local.sort_values(\"Accident_Count\", ascending=True).plot(\n",
    "    kind='bar', \n",
    "    x=\"Holiday_Name\", \n",
    "    y=\"Accident_Count\",\n",
    "    color='lightblue',\n",
    "    legend=False,\n",
    "    edgecolor='black'\n",
    ")\n",
    "plt.title(\"Number of Accidents During Holidays\", fontsize=16)\n",
    "plt.xlabel(\"Holiday\", fontsize=14)\n",
    "plt.ylabel(\"Number of Accidents\", fontsize=14)\n",
    "plt.xticks(rotation=45, fontsize=12)\n",
    "plt.grid(axis='y', linestyle='--', alpha=0.7)\n",
    "plt.tight_layout()\n",
    "plt.show()"
   ]
  },
  {
   "cell_type": "markdown",
   "metadata": {},
   "source": [
    "This is interesting ... Veterans day seem to have the highest number of accidents."
   ]
  },
  {
   "cell_type": "markdown",
   "metadata": {},
   "source": [
    "Now, let's compare the average deaths during a holiday and average deaths during a non-holiday day. \n",
    "\n",
    "Here, the denominator to calculate the average for a non-holiday day is '333' because we have considered a 3 days for the holiday and there are a total of ~366 days in a year. So, the total number of non holiday days will be: \n",
    "\n",
    "366 - 33(11 holidays * 3 holidays each) = 333"
   ]
  },
  {
   "cell_type": "code",
   "execution_count": 26,
   "metadata": {},
   "outputs": [
    {
     "name": "stderr",
     "output_type": "stream",
     "text": [
      "                                                                                \r"
     ]
    },
    {
     "data": {
      "image/png": "[encoded data removed]",
      "text/plain": [
       "<Figure size 1000x600 with 1 Axes>"
      ]
     },
     "metadata": {},
     "output_type": "display_data"
    }
   ],
   "source": [
    "# Count non-holiday accidents\n",
    "non_holiday_counts = data_df.filter(col(\"Holiday_Name\").isNull()).count()\n",
    "\n",
    "# Calculate averages\n",
    "holiday_avg = holiday_counts_local[\"Accident_Count\"].mean()\n",
    "non_holiday_avg = non_holiday_counts / 333  # Adjust divisor based on your data\n",
    "\n",
    "# Visualize holiday vs. non-holiday average accidents\n",
    "plt.figure(figsize=(10, 6))\n",
    "plt.bar(\n",
    "    [\"Holiday average accidents\", \"Non-Holiday avg accidents\"],\n",
    "    [holiday_avg, non_holiday_avg],\n",
    "    color=['lightblue', 'pink'],\n",
    "    edgecolor='black'\n",
    ")\n",
    "plt.title(\"Holiday vs. Non-Holiday Accident Averages\", fontsize=16)\n",
    "plt.ylabel(\"Average Accidents\", fontsize=14)\n",
    "plt.xticks(fontsize=12)\n",
    "plt.yticks(fontsize=12)\n",
    "plt.grid(axis='y', linestyle='--', alpha=0.7)\n",
    "plt.tight_layout()\n",
    "plt.show()"
   ]
  },
  {
   "cell_type": "markdown",
   "metadata": {},
   "source": [
    "We see a huge difference in accidents that have occured during holidays compared to normal days. This can be for a variety of reasons, let us see if one of the reasons can be alcohol consumption."
   ]
  },
  {
   "cell_type": "markdown",
   "metadata": {},
   "source": [
    "Let us see how alcohol actually correlates to the accidents in the US by visualising it on a map."
   ]
  },
  {
   "cell_type": "code",
   "execution_count": 27,
   "metadata": {},
   "outputs": [
    {
     "name": "stderr",
     "output_type": "stream",
     "text": [
      "                                                                                \r"
     ]
    }
   ],
   "source": [
    "#for some reason plotly takes in only abbreviations\n",
    "state_to_abbreviation = {\n",
    "    \"Alabama\": \"AL\", \"Alaska\": \"AK\", \"Arizona\": \"AZ\", \"Arkansas\": \"AR\",\n",
    "    \"California\": \"CA\", \"Colorado\": \"CO\", \"Connecticut\": \"CT\", \"Delaware\": \"DE\",\n",
    "    \"Florida\": \"FL\", \"Georgia\": \"GA\", \"Hawaii\": \"HI\", \"Idaho\": \"ID\",\n",
    "    \"Illinois\": \"IL\", \"Indiana\": \"IN\", \"Iowa\": \"IA\", \"Kansas\": \"KS\",\n",
    "    \"Kentucky\": \"KY\", \"Louisiana\": \"LA\", \"Maine\": \"ME\", \"Maryland\": \"MD\",\n",
    "    \"Massachusetts\": \"MA\", \"Michigan\": \"MI\", \"Minnesota\": \"MN\", \"Mississippi\": \"MS\",\n",
    "    \"Missouri\": \"MO\", \"Montana\": \"MT\", \"Nebraska\": \"NE\", \"Nevada\": \"NV\",\n",
    "    \"New Hampshire\": \"NH\", \"New Jersey\": \"NJ\", \"New Mexico\": \"NM\", \"New York\": \"NY\",\n",
    "    \"North Carolina\": \"NC\", \"North Dakota\": \"ND\", \"Ohio\": \"OH\", \"Oklahoma\": \"OK\",\n",
    "    \"Oregon\": \"OR\", \"Pennsylvania\": \"PA\", \"Rhode Island\": \"RI\", \"South Carolina\": \"SC\",\n",
    "    \"South Dakota\": \"SD\", \"Tennessee\": \"TN\", \"Texas\": \"TX\", \"Utah\": \"UT\",\n",
    "    \"Vermont\": \"VT\", \"Virginia\": \"VA\", \"Washington\": \"WA\", \"West Virginia\": \"WV\",\n",
    "    \"Wisconsin\": \"WI\", \"Wyoming\": \"WY\",\"District of Columbia\":\"DC\"\n",
    "}\n",
    "\n",
    "state_mapping = spark.createDataFrame(list(state_to_abbreviation.items()), [\"State\", \"Abbreviation\"])\n",
    "\n",
    "chloro_data_accidents = (\n",
    "    merged_df_all_beverages.groupBy(\"State\")\n",
    "    .sum(\"Ethanol_per_capita\", \"Accidents_per_capita\")\n",
    "    .withColumnRenamed(\"sum(Ethanol_per_capita)\", \"Ethanol_per_capita\")\n",
    "    .withColumnRenamed(\"sum(Accidents_per_capita)\", \"Accidents_per_capita\")\n",
    ")\n",
    "\n",
    "chloro_data_accidents = chloro_data_accidents.join(state_mapping, on=\"State\", how=\"inner\")\n",
    "\n",
    "chloro_data_pd = chloro_data_accidents.toPandas()"
   ]
  },
  {
   "cell_type": "code",
   "execution_count": 28,
   "metadata": {},
   "outputs": [
    {
     "data": {
      "application/vnd.plotly.v1+json": {
       "config": {
        "plotlyServerURL": "https://plot.ly"
       },
       "data": [
        {
         "coloraxis": "coloraxis",
         "customdata": [
          [
           "Utah"
          ],
          [
           "Minnesota"
          ],
          [
           "Ohio"
          ],
          [
           "Arkansas"
          ],
          [
           "Oregon"
          ],
          [
           "Texas"
          ],
          [
           "North Dakota"
          ],
          [
           "Pennsylvania"
          ],
          [
           "Connecticut"
          ],
          [
           "Nebraska"
          ],
          [
           "Vermont"
          ],
          [
           "Nevada"
          ],
          [
           "Washington"
          ],
          [
           "Illinois"
          ],
          [
           "Oklahoma"
          ],
          [
           "District of Columbia"
          ],
          [
           "Delaware"
          ],
          [
           "New Mexico"
          ],
          [
           "West Virginia"
          ],
          [
           "Missouri"
          ],
          [
           "Rhode Island"
          ],
          [
           "Georgia"
          ],
          [
           "Montana"
          ],
          [
           "Virginia"
          ],
          [
           "Michigan"
          ],
          [
           "North Carolina"
          ],
          [
           "Wyoming"
          ],
          [
           "Kansas"
          ],
          [
           "New Jersey"
          ],
          [
           "Maryland"
          ],
          [
           "Alabama"
          ],
          [
           "Arizona"
          ],
          [
           "Iowa"
          ],
          [
           "Massachusetts"
          ],
          [
           "Kentucky"
          ],
          [
           "Louisiana"
          ],
          [
           "Mississippi"
          ],
          [
           "Tennessee"
          ],
          [
           "New Hampshire"
          ],
          [
           "Indiana"
          ],
          [
           "Florida"
          ],
          [
           "Idaho"
          ],
          [
           "South Carolina"
          ],
          [
           "South Dakota"
          ],
          [
           "California"
          ],
          [
           "New York"
          ],
          [
           "Wisconsin"
          ],
          [
           "Colorado"
          ],
          [
           "Maine"
          ]
         ],
         "geo": "geo",
         "hovertemplate": "Abbreviation=%{location}<br>State=%{customdata[0]}<br>Accidents_per_capita=%{z}<extra></extra>",
         "locationmode": "USA-states",
         "locations": [
          "UT",
          "MN",
          "OH",
          "AR",
          "OR",
          "TX",
          "ND",
          "PA",
          "CT",
          "NE",
          "VT",
          "NV",
          "WA",
          "IL",
          "OK",
          "DC",
          "DE",
          "NM",
          "WV",
          "MO",
          "RI",
          "GA",
          "MT",
          "VA",
          "MI",
          "NC",
          "WY",
          "KS",
          "NJ",
          "MD",
          "AL",
          "AZ",
          "IA",
          "MA",
          "KY",
          "LA",
          "MS",
          "TN",
          "NH",
          "IN",
          "FL",
          "ID",
          "SC",
          "SD",
          "CA",
          "NY",
          "WI",
          "CO",
          "ME"
         ],
         "name": "",
         "type": "choropleth",
         "z": [
          1656,
          1644,
          475,
          261,
          2120,
          1092,
          164,
          995,
          843,
          934,
          87,
          338,
          763,
          702,
          1225,
          994,
          691,
          268,
          251,
          574,
          888,
          783,
          701,
          1424,
          812,
          1567,
          140,
          302,
          656,
          1040,
          1027,
          1111,
          427,
          499,
          420,
          1571,
          249,
          1167,
          438,
          493,
          1710,
          313,
          3570,
          19,
          2103,
          771,
          267,
          725,
          118
         ]
        }
       ],
       "layout": {
        "coloraxis": {
         "colorbar": {
          "title": {
           "text": "Accidents_per_capita"
          }
         },
         "colorscale": [
          [
           0,
           "#0d0887"
          ],
          [
           0.1111111111111111,
           "#46039f"
          ],
          [
           0.2222222222222222,
           "#7201a8"
          ],
          [
           0.3333333333333333,
           "#9c179e"
          ],
          [
           0.4444444444444444,
           "#bd3786"
          ],
          [
           0.5555555555555556,
           "#d8576b"
          ],
          [
           0.6666666666666666,
           "#ed7953"
          ],
          [
           0.7777777777777778,
           "#fb9f3a"
          ],
          [
           0.8888888888888888,
           "#fdca26"
          ],
          [
           1,
           "#f0f921"
          ]
         ]
        },
        "geo": {
         "center": {},
         "domain": {
          "x": [
           0,
           1
          ],
          "y": [
           0,
           1
          ]
         },
         "scope": "usa"
        },
        "legend": {
         "tracegroupgap": 0
        },
        "template": {
         "data": {
          "bar": [
           {
            "error_x": {
             "color": "#2a3f5f"
            },
            "error_y": {
             "color": "#2a3f5f"
            },
            "marker": {
             "line": {
              "color": "#E5ECF6",
              "width": 0.5
             },
             "pattern": {
              "fillmode": "overlay",
              "size": 10,
              "solidity": 0.2
             }
            },
            "type": "bar"
           }
          ],
          "barpolar": [
           {
            "marker": {
             "line": {
              "color": "#E5ECF6",
              "width": 0.5
             },
             "pattern": {
              "fillmode": "overlay",
              "size": 10,
              "solidity": 0.2
             }
            },
            "type": "barpolar"
           }
          ],
          "carpet": [
           {
            "aaxis": {
             "endlinecolor": "#2a3f5f",
             "gridcolor": "white",
             "linecolor": "white",
             "minorgridcolor": "white",
             "startlinecolor": "#2a3f5f"
            },
            "baxis": {
             "endlinecolor": "#2a3f5f",
             "gridcolor": "white",
             "linecolor": "white",
             "minorgridcolor": "white",
             "startlinecolor": "#2a3f5f"
            },
            "type": "carpet"
           }
          ],
          "choropleth": [
           {
            "colorbar": {
             "outlinewidth": 0,
             "ticks": ""
            },
            "type": "choropleth"
           }
          ],
          "contour": [
           {
            "colorbar": {
             "outlinewidth": 0,
             "ticks": ""
            },
            "colorscale": [
             [
              0,
              "#0d0887"
             ],
             [
              0.1111111111111111,
              "#46039f"
             ],
             [
              0.2222222222222222,
              "#7201a8"
             ],
             [
              0.3333333333333333,
              "#9c179e"
             ],
             [
              0.4444444444444444,
              "#bd3786"
             ],
             [
              0.5555555555555556,
              "#d8576b"
             ],
             [
              0.6666666666666666,
              "#ed7953"
             ],
             [
              0.7777777777777778,
              "#fb9f3a"
             ],
             [
              0.8888888888888888,
              "#fdca26"
             ],
             [
              1,
              "#f0f921"
             ]
            ],
            "type": "contour"
           }
          ],
          "contourcarpet": [
           {
            "colorbar": {
             "outlinewidth": 0,
             "ticks": ""
            },
            "type": "contourcarpet"
           }
          ],
          "heatmap": [
           {
            "colorbar": {
             "outlinewidth": 0,
             "ticks": ""
            },
            "colorscale": [
             [
              0,
              "#0d0887"
             ],
             [
              0.1111111111111111,
              "#46039f"
             ],
             [
              0.2222222222222222,
              "#7201a8"
             ],
             [
              0.3333333333333333,
              "#9c179e"
             ],
             [
              0.4444444444444444,
              "#bd3786"
             ],
             [
              0.5555555555555556,
              "#d8576b"
             ],
             [
              0.6666666666666666,
              "#ed7953"
             ],
             [
              0.7777777777777778,
              "#fb9f3a"
             ],
             [
              0.8888888888888888,
              "#fdca26"
             ],
             [
              1,
              "#f0f921"
             ]
            ],
            "type": "heatmap"
           }
          ],
          "heatmapgl": [
           {
            "colorbar": {
             "outlinewidth": 0,
             "ticks": ""
            },
            "colorscale": [
             [
              0,
              "#0d0887"
             ],
             [
              0.1111111111111111,
              "#46039f"
             ],
             [
              0.2222222222222222,
              "#7201a8"
             ],
             [
              0.3333333333333333,
              "#9c179e"
             ],
             [
              0.4444444444444444,
              "#bd3786"
             ],
             [
              0.5555555555555556,
              "#d8576b"
             ],
             [
              0.6666666666666666,
              "#ed7953"
             ],
             [
              0.7777777777777778,
              "#fb9f3a"
             ],
             [
              0.8888888888888888,
              "#fdca26"
             ],
             [
              1,
              "#f0f921"
             ]
            ],
            "type": "heatmapgl"
           }
          ],
          "histogram": [
           {
            "marker": {
             "pattern": {
              "fillmode": "overlay",
              "size": 10,
              "solidity": 0.2
             }
            },
            "type": "histogram"
           }
          ],
          "histogram2d": [
           {
            "colorbar": {
             "outlinewidth": 0,
             "ticks": ""
            },
            "colorscale": [
             [
              0,
              "#0d0887"
             ],
             [
              0.1111111111111111,
              "#46039f"
             ],
             [
              0.2222222222222222,
              "#7201a8"
             ],
             [
              0.3333333333333333,
              "#9c179e"
             ],
             [
              0.4444444444444444,
              "#bd3786"
             ],
             [
              0.5555555555555556,
              "#d8576b"
             ],
             [
              0.6666666666666666,
              "#ed7953"
             ],
             [
              0.7777777777777778,
              "#fb9f3a"
             ],
             [
              0.8888888888888888,
              "#fdca26"
             ],
             [
              1,
              "#f0f921"
             ]
            ],
            "type": "histogram2d"
           }
          ],
          "histogram2dcontour": [
           {
            "colorbar": {
             "outlinewidth": 0,
             "ticks": ""
            },
            "colorscale": [
             [
              0,
              "#0d0887"
             ],
             [
              0.1111111111111111,
              "#46039f"
             ],
             [
              0.2222222222222222,
              "#7201a8"
             ],
             [
              0.3333333333333333,
              "#9c179e"
             ],
             [
              0.4444444444444444,
              "#bd3786"
             ],
             [
              0.5555555555555556,
              "#d8576b"
             ],
             [
              0.6666666666666666,
              "#ed7953"
             ],
             [
              0.7777777777777778,
              "#fb9f3a"
             ],
             [
              0.8888888888888888,
              "#fdca26"
             ],
             [
              1,
              "#f0f921"
             ]
            ],
            "type": "histogram2dcontour"
           }
          ],
          "mesh3d": [
           {
            "colorbar": {
             "outlinewidth": 0,
             "ticks": ""
            },
            "type": "mesh3d"
           }
          ],
          "parcoords": [
           {
            "line": {
             "colorbar": {
              "outlinewidth": 0,
              "ticks": ""
             }
            },
            "type": "parcoords"
           }
          ],
          "pie": [
           {
            "automargin": true,
            "type": "pie"
           }
          ],
          "scatter": [
           {
            "fillpattern": {
             "fillmode": "overlay",
             "size": 10,
             "solidity": 0.2
            },
            "type": "scatter"
           }
          ],
          "scatter3d": [
           {
            "line": {
             "colorbar": {
              "outlinewidth": 0,
              "ticks": ""
             }
            },
            "marker": {
             "colorbar": {
              "outlinewidth": 0,
              "ticks": ""
             }
            },
            "type": "scatter3d"
           }
          ],
          "scattercarpet": [
           {
            "marker": {
             "colorbar": {
              "outlinewidth": 0,
              "ticks": ""
             }
            },
            "type": "scattercarpet"
           }
          ],
          "scattergeo": [
           {
            "marker": {
             "colorbar": {
              "outlinewidth": 0,
              "ticks": ""
             }
            },
            "type": "scattergeo"
           }
          ],
          "scattergl": [
           {
            "marker": {
             "colorbar": {
              "outlinewidth": 0,
              "ticks": ""
             }
            },
            "type": "scattergl"
           }
          ],
          "scattermapbox": [
           {
            "marker": {
             "colorbar": {
              "outlinewidth": 0,
              "ticks": ""
             }
            },
            "type": "scattermapbox"
           }
          ],
          "scatterpolar": [
           {
            "marker": {
             "colorbar": {
              "outlinewidth": 0,
              "ticks": ""
             }
            },
            "type": "scatterpolar"
           }
          ],
          "scatterpolargl": [
           {
            "marker": {
             "colorbar": {
              "outlinewidth": 0,
              "ticks": ""
             }
            },
            "type": "scatterpolargl"
           }
          ],
          "scatterternary": [
           {
            "marker": {
             "colorbar": {
              "outlinewidth": 0,
              "ticks": ""
             }
            },
            "type": "scatterternary"
           }
          ],
          "surface": [
           {
            "colorbar": {
             "outlinewidth": 0,
             "ticks": ""
            },
            "colorscale": [
             [
              0,
              "#0d0887"
             ],
             [
              0.1111111111111111,
              "#46039f"
             ],
             [
              0.2222222222222222,
              "#7201a8"
             ],
             [
              0.3333333333333333,
              "#9c179e"
             ],
             [
              0.4444444444444444,
              "#bd3786"
             ],
             [
              0.5555555555555556,
              "#d8576b"
             ],
             [
              0.6666666666666666,
              "#ed7953"
             ],
             [
              0.7777777777777778,
              "#fb9f3a"
             ],
             [
              0.8888888888888888,
              "#fdca26"
             ],
             [
              1,
              "#f0f921"
             ]
            ],
            "type": "surface"
           }
          ],
          "table": [
           {
            "cells": {
             "fill": {
              "color": "#EBF0F8"
             },
             "line": {
              "color": "white"
             }
            },
            "header": {
             "fill": {
              "color": "#C8D4E3"
             },
             "line": {
              "color": "white"
             }
            },
            "type": "table"
           }
          ]
         },
         "layout": {
          "annotationdefaults": {
           "arrowcolor": "#2a3f5f",
           "arrowhead": 0,
           "arrowwidth": 1
          },
          "autotypenumbers": "strict",
          "coloraxis": {
           "colorbar": {
            "outlinewidth": 0,
            "ticks": ""
           }
          },
          "colorscale": {
           "diverging": [
            [
             0,
             "#8e0152"
            ],
            [
             0.1,
             "#c51b7d"
            ],
            [
             0.2,
             "#de77ae"
            ],
            [
             0.3,
             "#f1b6da"
            ],
            [
             0.4,
             "#fde0ef"
            ],
            [
             0.5,
             "#f7f7f7"
            ],
            [
             0.6,
             "#e6f5d0"
            ],
            [
             0.7,
             "#b8e186"
            ],
            [
             0.8,
             "#7fbc41"
            ],
            [
             0.9,
             "#4d9221"
            ],
            [
             1,
             "#276419"
            ]
           ],
           "sequential": [
            [
             0,
             "#0d0887"
            ],
            [
             0.1111111111111111,
             "#46039f"
            ],
            [
             0.2222222222222222,
             "#7201a8"
            ],
            [
             0.3333333333333333,
             "#9c179e"
            ],
            [
             0.4444444444444444,
             "#bd3786"
            ],
            [
             0.5555555555555556,
             "#d8576b"
            ],
            [
             0.6666666666666666,
             "#ed7953"
            ],
            [
             0.7777777777777778,
             "#fb9f3a"
            ],
            [
             0.8888888888888888,
             "#fdca26"
            ],
            [
             1,
             "#f0f921"
            ]
           ],
           "sequentialminus": [
            [
             0,
             "#0d0887"
            ],
            [
             0.1111111111111111,
             "#46039f"
            ],
            [
             0.2222222222222222,
             "#7201a8"
            ],
            [
             0.3333333333333333,
             "#9c179e"
            ],
            [
             0.4444444444444444,
             "#bd3786"
            ],
            [
             0.5555555555555556,
             "#d8576b"
            ],
            [
             0.6666666666666666,
             "#ed7953"
            ],
            [
             0.7777777777777778,
             "#fb9f3a"
            ],
            [
             0.8888888888888888,
             "#fdca26"
            ],
            [
             1,
             "#f0f921"
            ]
           ]
          },
          "colorway": [
           "#636efa",
           "#EF553B",
           "#00cc96",
           "#ab63fa",
           "#FFA15A",
           "#19d3f3",
           "#FF6692",
           "#B6E880",
           "#FF97FF",
           "#FECB52"
          ],
          "font": {
           "color": "#2a3f5f"
          },
          "geo": {
           "bgcolor": "white",
           "lakecolor": "white",
           "landcolor": "#E5ECF6",
           "showlakes": true,
           "showland": true,
           "subunitcolor": "white"
          },
          "hoverlabel": {
           "align": "left"
          },
          "hovermode": "closest",
          "mapbox": {
           "style": "light"
          },
          "paper_bgcolor": "white",
          "plot_bgcolor": "#E5ECF6",
          "polar": {
           "angularaxis": {
            "gridcolor": "white",
            "linecolor": "white",
            "ticks": ""
           },
           "bgcolor": "#E5ECF6",
           "radialaxis": {
            "gridcolor": "white",
            "linecolor": "white",
            "ticks": ""
           }
          },
          "scene": {
           "xaxis": {
            "backgroundcolor": "#E5ECF6",
            "gridcolor": "white",
            "gridwidth": 2,
            "linecolor": "white",
            "showbackground": true,
            "ticks": "",
            "zerolinecolor": "white"
           },
           "yaxis": {
            "backgroundcolor": "#E5ECF6",
            "gridcolor": "white",
            "gridwidth": 2,
            "linecolor": "white",
            "showbackground": true,
            "ticks": "",
            "zerolinecolor": "white"
           },
           "zaxis": {
            "backgroundcolor": "#E5ECF6",
            "gridcolor": "white",
            "gridwidth": 2,
            "linecolor": "white",
            "showbackground": true,
            "ticks": "",
            "zerolinecolor": "white"
           }
          },
          "shapedefaults": {
           "line": {
            "color": "#2a3f5f"
           }
          },
          "ternary": {
           "aaxis": {
            "gridcolor": "white",
            "linecolor": "white",
            "ticks": ""
           },
           "baxis": {
            "gridcolor": "white",
            "linecolor": "white",
            "ticks": ""
           },
           "bgcolor": "#E5ECF6",
           "caxis": {
            "gridcolor": "white",
            "linecolor": "white",
            "ticks": ""
           }
          },
          "title": {
           "x": 0.05
          },
          "xaxis": {
           "automargin": true,
           "gridcolor": "white",
           "linecolor": "white",
           "ticks": "",
           "title": {
            "standoff": 15
           },
           "zerolinecolor": "white",
           "zerolinewidth": 2
          },
          "yaxis": {
           "automargin": true,
           "gridcolor": "white",
           "linecolor": "white",
           "ticks": "",
           "title": {
            "standoff": 15
           },
           "zerolinecolor": "white",
           "zerolinewidth": 2
          }
         }
        },
        "title": {
         "text": "Accidents per 10,000 drinking residents per state"
        }
       }
      }
     },
     "metadata": {},
     "output_type": "display_data"
    }
   ],
   "source": [
    "import plotly.express as px\n",
    "\n",
    "fig = px.choropleth(chloro_data_pd, locations='Abbreviation', color='Accidents_per_capita', scope=\"usa\", locationmode=\"USA-states\",title=\"Accidents per 10,000 drinking residents per state\",hover_data=\"State\")\n",
    " \n",
    "fig.show()"
   ]
  },
  {
   "cell_type": "code",
   "execution_count": 29,
   "metadata": {},
   "outputs": [
    {
     "data": {
      "application/vnd.plotly.v1+json": {
       "config": {
        "plotlyServerURL": "https://plot.ly"
       },
       "data": [
        {
         "coloraxis": "coloraxis",
         "customdata": [
          [
           "Utah"
          ],
          [
           "Minnesota"
          ],
          [
           "Ohio"
          ],
          [
           "Arkansas"
          ],
          [
           "Oregon"
          ],
          [
           "Texas"
          ],
          [
           "North Dakota"
          ],
          [
           "Pennsylvania"
          ],
          [
           "Connecticut"
          ],
          [
           "Nebraska"
          ],
          [
           "Vermont"
          ],
          [
           "Nevada"
          ],
          [
           "Washington"
          ],
          [
           "Illinois"
          ],
          [
           "Oklahoma"
          ],
          [
           "District of Columbia"
          ],
          [
           "Delaware"
          ],
          [
           "New Mexico"
          ],
          [
           "West Virginia"
          ],
          [
           "Missouri"
          ],
          [
           "Rhode Island"
          ],
          [
           "Georgia"
          ],
          [
           "Montana"
          ],
          [
           "Virginia"
          ],
          [
           "Michigan"
          ],
          [
           "North Carolina"
          ],
          [
           "Wyoming"
          ],
          [
           "Kansas"
          ],
          [
           "New Jersey"
          ],
          [
           "Maryland"
          ],
          [
           "Alabama"
          ],
          [
           "Arizona"
          ],
          [
           "Iowa"
          ],
          [
           "Massachusetts"
          ],
          [
           "Kentucky"
          ],
          [
           "Louisiana"
          ],
          [
           "Mississippi"
          ],
          [
           "Tennessee"
          ],
          [
           "New Hampshire"
          ],
          [
           "Indiana"
          ],
          [
           "Florida"
          ],
          [
           "Idaho"
          ],
          [
           "South Carolina"
          ],
          [
           "South Dakota"
          ],
          [
           "California"
          ],
          [
           "New York"
          ],
          [
           "Wisconsin"
          ],
          [
           "Colorado"
          ],
          [
           "Maine"
          ]
         ],
         "geo": "geo",
         "hovertemplate": "Abbreviation=%{location}<br>State=%{customdata[0]}<br>Ethanol_per_capita=%{z}<extra></extra>",
         "locationmode": "USA-states",
         "locations": [
          "UT",
          "MN",
          "OH",
          "AR",
          "OR",
          "TX",
          "ND",
          "PA",
          "CT",
          "NE",
          "VT",
          "NV",
          "WA",
          "IL",
          "OK",
          "DC",
          "DE",
          "NM",
          "WV",
          "MO",
          "RI",
          "GA",
          "MT",
          "VA",
          "MI",
          "NC",
          "WY",
          "KS",
          "NJ",
          "MD",
          "AL",
          "AZ",
          "IA",
          "MA",
          "KY",
          "LA",
          "MS",
          "TN",
          "NH",
          "IN",
          "FL",
          "ID",
          "SC",
          "SD",
          "CA",
          "NY",
          "WI",
          "CO",
          "ME"
         ],
         "name": "",
         "type": "choropleth",
         "z": [
          43283,
          89166,
          65648,
          58780,
          86652,
          75236,
          101211,
          74952,
          78043,
          69832,
          98680,
          109998,
          70927,
          75914,
          59632,
          121556,
          119606,
          72139,
          55964,
          82393,
          83884,
          61776,
          100669,
          69142,
          76256,
          70690,
          89446,
          64343,
          77151,
          67160,
          63996,
          73243,
          76967,
          82621,
          64934,
          82592,
          72336,
          70180,
          142425,
          70487,
          86310,
          66202,
          69109,
          80420,
          80481,
          70044,
          95793,
          91698,
          90959
         ]
        }
       ],
       "layout": {
        "coloraxis": {
         "colorbar": {
          "title": {
           "text": "Ethanol_per_capita"
          }
         },
         "colorscale": [
          [
           0,
           "#0d0887"
          ],
          [
           0.1111111111111111,
           "#46039f"
          ],
          [
           0.2222222222222222,
           "#7201a8"
          ],
          [
           0.3333333333333333,
           "#9c179e"
          ],
          [
           0.4444444444444444,
           "#bd3786"
          ],
          [
           0.5555555555555556,
           "#d8576b"
          ],
          [
           0.6666666666666666,
           "#ed7953"
          ],
          [
           0.7777777777777778,
           "#fb9f3a"
          ],
          [
           0.8888888888888888,
           "#fdca26"
          ],
          [
           1,
           "#f0f921"
          ]
         ]
        },
        "geo": {
         "center": {},
         "domain": {
          "x": [
           0,
           1
          ],
          "y": [
           0,
           1
          ]
         },
         "scope": "usa"
        },
        "legend": {
         "tracegroupgap": 0
        },
        "template": {
         "data": {
          "bar": [
           {
            "error_x": {
             "color": "#2a3f5f"
            },
            "error_y": {
             "color": "#2a3f5f"
            },
            "marker": {
             "line": {
              "color": "#E5ECF6",
              "width": 0.5
             },
             "pattern": {
              "fillmode": "overlay",
              "size": 10,
              "solidity": 0.2
             }
            },
            "type": "bar"
           }
          ],
          "barpolar": [
           {
            "marker": {
             "line": {
              "color": "#E5ECF6",
              "width": 0.5
             },
             "pattern": {
              "fillmode": "overlay",
              "size": 10,
              "solidity": 0.2
             }
            },
            "type": "barpolar"
           }
          ],
          "carpet": [
           {
            "aaxis": {
             "endlinecolor": "#2a3f5f",
             "gridcolor": "white",
             "linecolor": "white",
             "minorgridcolor": "white",
             "startlinecolor": "#2a3f5f"
            },
            "baxis": {
             "endlinecolor": "#2a3f5f",
             "gridcolor": "white",
             "linecolor": "white",
             "minorgridcolor": "white",
             "startlinecolor": "#2a3f5f"
            },
            "type": "carpet"
           }
          ],
          "choropleth": [
           {
            "colorbar": {
             "outlinewidth": 0,
             "ticks": ""
            },
            "type": "choropleth"
           }
          ],
          "contour": [
           {
            "colorbar": {
             "outlinewidth": 0,
             "ticks": ""
            },
            "colorscale": [
             [
              0,
              "#0d0887"
             ],
             [
              0.1111111111111111,
              "#46039f"
             ],
             [
              0.2222222222222222,
              "#7201a8"
             ],
             [
              0.3333333333333333,
              "#9c179e"
             ],
             [
              0.4444444444444444,
              "#bd3786"
             ],
             [
              0.5555555555555556,
              "#d8576b"
             ],
             [
              0.6666666666666666,
              "#ed7953"
             ],
             [
              0.7777777777777778,
              "#fb9f3a"
             ],
             [
              0.8888888888888888,
              "#fdca26"
             ],
             [
              1,
              "#f0f921"
             ]
            ],
            "type": "contour"
           }
          ],
          "contourcarpet": [
           {
            "colorbar": {
             "outlinewidth": 0,
             "ticks": ""
            },
            "type": "contourcarpet"
           }
          ],
          "heatmap": [
           {
            "colorbar": {
             "outlinewidth": 0,
             "ticks": ""
            },
            "colorscale": [
             [
              0,
              "#0d0887"
             ],
             [
              0.1111111111111111,
              "#46039f"
             ],
             [
              0.2222222222222222,
              "#7201a8"
             ],
             [
              0.3333333333333333,
              "#9c179e"
             ],
             [
              0.4444444444444444,
              "#bd3786"
             ],
             [
              0.5555555555555556,
              "#d8576b"
             ],
             [
              0.6666666666666666,
              "#ed7953"
             ],
             [
              0.7777777777777778,
              "#fb9f3a"
             ],
             [
              0.8888888888888888,
              "#fdca26"
             ],
             [
              1,
              "#f0f921"
             ]
            ],
            "type": "heatmap"
           }
          ],
          "heatmapgl": [
           {
            "colorbar": {
             "outlinewidth": 0,
             "ticks": ""
            },
            "colorscale": [
             [
              0,
              "#0d0887"
             ],
             [
              0.1111111111111111,
              "#46039f"
             ],
             [
              0.2222222222222222,
              "#7201a8"
             ],
             [
              0.3333333333333333,
              "#9c179e"
             ],
             [
              0.4444444444444444,
              "#bd3786"
             ],
             [
              0.5555555555555556,
              "#d8576b"
             ],
             [
              0.6666666666666666,
              "#ed7953"
             ],
             [
              0.7777777777777778,
              "#fb9f3a"
             ],
             [
              0.8888888888888888,
              "#fdca26"
             ],
             [
              1,
              "#f0f921"
             ]
            ],
            "type": "heatmapgl"
           }
          ],
          "histogram": [
           {
            "marker": {
             "pattern": {
              "fillmode": "overlay",
              "size": 10,
              "solidity": 0.2
             }
            },
            "type": "histogram"
           }
          ],
          "histogram2d": [
           {
            "colorbar": {
             "outlinewidth": 0,
             "ticks": ""
            },
            "colorscale": [
             [
              0,
              "#0d0887"
             ],
             [
              0.1111111111111111,
              "#46039f"
             ],
             [
              0.2222222222222222,
              "#7201a8"
             ],
             [
              0.3333333333333333,
              "#9c179e"
             ],
             [
              0.4444444444444444,
              "#bd3786"
             ],
             [
              0.5555555555555556,
              "#d8576b"
             ],
             [
              0.6666666666666666,
              "#ed7953"
             ],
             [
              0.7777777777777778,
              "#fb9f3a"
             ],
             [
              0.8888888888888888,
              "#fdca26"
             ],
             [
              1,
              "#f0f921"
             ]
            ],
            "type": "histogram2d"
           }
          ],
          "histogram2dcontour": [
           {
            "colorbar": {
             "outlinewidth": 0,
             "ticks": ""
            },
            "colorscale": [
             [
              0,
              "#0d0887"
             ],
             [
              0.1111111111111111,
              "#46039f"
             ],
             [
              0.2222222222222222,
              "#7201a8"
             ],
             [
              0.3333333333333333,
              "#9c179e"
             ],
             [
              0.4444444444444444,
              "#bd3786"
             ],
             [
              0.5555555555555556,
              "#d8576b"
             ],
             [
              0.6666666666666666,
              "#ed7953"
             ],
             [
              0.7777777777777778,
              "#fb9f3a"
             ],
             [
              0.8888888888888888,
              "#fdca26"
             ],
             [
              1,
              "#f0f921"
             ]
            ],
            "type": "histogram2dcontour"
           }
          ],
          "mesh3d": [
           {
            "colorbar": {
             "outlinewidth": 0,
             "ticks": ""
            },
            "type": "mesh3d"
           }
          ],
          "parcoords": [
           {
            "line": {
             "colorbar": {
              "outlinewidth": 0,
              "ticks": ""
             }
            },
            "type": "parcoords"
           }
          ],
          "pie": [
           {
            "automargin": true,
            "type": "pie"
           }
          ],
          "scatter": [
           {
            "fillpattern": {
             "fillmode": "overlay",
             "size": 10,
             "solidity": 0.2
            },
            "type": "scatter"
           }
          ],
          "scatter3d": [
           {
            "line": {
             "colorbar": {
              "outlinewidth": 0,
              "ticks": ""
             }
            },
            "marker": {
             "colorbar": {
              "outlinewidth": 0,
              "ticks": ""
             }
            },
            "type": "scatter3d"
           }
          ],
          "scattercarpet": [
           {
            "marker": {
             "colorbar": {
              "outlinewidth": 0,
              "ticks": ""
             }
            },
            "type": "scattercarpet"
           }
          ],
          "scattergeo": [
           {
            "marker": {
             "colorbar": {
              "outlinewidth": 0,
              "ticks": ""
             }
            },
            "type": "scattergeo"
           }
          ],
          "scattergl": [
           {
            "marker": {
             "colorbar": {
              "outlinewidth": 0,
              "ticks": ""
             }
            },
            "type": "scattergl"
           }
          ],
          "scattermapbox": [
           {
            "marker": {
             "colorbar": {
              "outlinewidth": 0,
              "ticks": ""
             }
            },
            "type": "scattermapbox"
           }
          ],
          "scatterpolar": [
           {
            "marker": {
             "colorbar": {
              "outlinewidth": 0,
              "ticks": ""
             }
            },
            "type": "scatterpolar"
           }
          ],
          "scatterpolargl": [
           {
            "marker": {
             "colorbar": {
              "outlinewidth": 0,
              "ticks": ""
             }
            },
            "type": "scatterpolargl"
           }
          ],
          "scatterternary": [
           {
            "marker": {
             "colorbar": {
              "outlinewidth": 0,
              "ticks": ""
             }
            },
            "type": "scatterternary"
           }
          ],
          "surface": [
           {
            "colorbar": {
             "outlinewidth": 0,
             "ticks": ""
            },
            "colorscale": [
             [
              0,
              "#0d0887"
             ],
             [
              0.1111111111111111,
              "#46039f"
             ],
             [
              0.2222222222222222,
              "#7201a8"
             ],
             [
              0.3333333333333333,
              "#9c179e"
             ],
             [
              0.4444444444444444,
              "#bd3786"
             ],
             [
              0.5555555555555556,
              "#d8576b"
             ],
             [
              0.6666666666666666,
              "#ed7953"
             ],
             [
              0.7777777777777778,
              "#fb9f3a"
             ],
             [
              0.8888888888888888,
              "#fdca26"
             ],
             [
              1,
              "#f0f921"
             ]
            ],
            "type": "surface"
           }
          ],
          "table": [
           {
            "cells": {
             "fill": {
              "color": "#EBF0F8"
             },
             "line": {
              "color": "white"
             }
            },
            "header": {
             "fill": {
              "color": "#C8D4E3"
             },
             "line": {
              "color": "white"
             }
            },
            "type": "table"
           }
          ]
         },
         "layout": {
          "annotationdefaults": {
           "arrowcolor": "#2a3f5f",
           "arrowhead": 0,
           "arrowwidth": 1
          },
          "autotypenumbers": "strict",
          "coloraxis": {
           "colorbar": {
            "outlinewidth": 0,
            "ticks": ""
           }
          },
          "colorscale": {
           "diverging": [
            [
             0,
             "#8e0152"
            ],
            [
             0.1,
             "#c51b7d"
            ],
            [
             0.2,
             "#de77ae"
            ],
            [
             0.3,
             "#f1b6da"
            ],
            [
             0.4,
             "#fde0ef"
            ],
            [
             0.5,
             "#f7f7f7"
            ],
            [
             0.6,
             "#e6f5d0"
            ],
            [
             0.7,
             "#b8e186"
            ],
            [
             0.8,
             "#7fbc41"
            ],
            [
             0.9,
             "#4d9221"
            ],
            [
             1,
             "#276419"
            ]
           ],
           "sequential": [
            [
             0,
             "#0d0887"
            ],
            [
             0.1111111111111111,
             "#46039f"
            ],
            [
             0.2222222222222222,
             "#7201a8"
            ],
            [
             0.3333333333333333,
             "#9c179e"
            ],
            [
             0.4444444444444444,
             "#bd3786"
            ],
            [
             0.5555555555555556,
             "#d8576b"
            ],
            [
             0.6666666666666666,
             "#ed7953"
            ],
            [
             0.7777777777777778,
             "#fb9f3a"
            ],
            [
             0.8888888888888888,
             "#fdca26"
            ],
            [
             1,
             "#f0f921"
            ]
           ],
           "sequentialminus": [
            [
             0,
             "#0d0887"
            ],
            [
             0.1111111111111111,
             "#46039f"
            ],
            [
             0.2222222222222222,
             "#7201a8"
            ],
            [
             0.3333333333333333,
             "#9c179e"
            ],
            [
             0.4444444444444444,
             "#bd3786"
            ],
            [
             0.5555555555555556,
             "#d8576b"
            ],
            [
             0.6666666666666666,
             "#ed7953"
            ],
            [
             0.7777777777777778,
             "#fb9f3a"
            ],
            [
             0.8888888888888888,
             "#fdca26"
            ],
            [
             1,
             "#f0f921"
            ]
           ]
          },
          "colorway": [
           "#636efa",
           "#EF553B",
           "#00cc96",
           "#ab63fa",
           "#FFA15A",
           "#19d3f3",
           "#FF6692",
           "#B6E880",
           "#FF97FF",
           "#FECB52"
          ],
          "font": {
           "color": "#2a3f5f"
          },
          "geo": {
           "bgcolor": "white",
           "lakecolor": "white",
           "landcolor": "#E5ECF6",
           "showlakes": true,
           "showland": true,
           "subunitcolor": "white"
          },
          "hoverlabel": {
           "align": "left"
          },
          "hovermode": "closest",
          "mapbox": {
           "style": "light"
          },
          "paper_bgcolor": "white",
          "plot_bgcolor": "#E5ECF6",
          "polar": {
           "angularaxis": {
            "gridcolor": "white",
            "linecolor": "white",
            "ticks": ""
           },
           "bgcolor": "#E5ECF6",
           "radialaxis": {
            "gridcolor": "white",
            "linecolor": "white",
            "ticks": ""
           }
          },
          "scene": {
           "xaxis": {
            "backgroundcolor": "#E5ECF6",
            "gridcolor": "white",
            "gridwidth": 2,
            "linecolor": "white",
            "showbackground": true,
            "ticks": "",
            "zerolinecolor": "white"
           },
           "yaxis": {
            "backgroundcolor": "#E5ECF6",
            "gridcolor": "white",
            "gridwidth": 2,
            "linecolor": "white",
            "showbackground": true,
            "ticks": "",
            "zerolinecolor": "white"
           },
           "zaxis": {
            "backgroundcolor": "#E5ECF6",
            "gridcolor": "white",
            "gridwidth": 2,
            "linecolor": "white",
            "showbackground": true,
            "ticks": "",
            "zerolinecolor": "white"
           }
          },
          "shapedefaults": {
           "line": {
            "color": "#2a3f5f"
           }
          },
          "ternary": {
           "aaxis": {
            "gridcolor": "white",
            "linecolor": "white",
            "ticks": ""
           },
           "baxis": {
            "gridcolor": "white",
            "linecolor": "white",
            "ticks": ""
           },
           "bgcolor": "#E5ECF6",
           "caxis": {
            "gridcolor": "white",
            "linecolor": "white",
            "ticks": ""
           }
          },
          "title": {
           "x": 0.05
          },
          "xaxis": {
           "automargin": true,
           "gridcolor": "white",
           "linecolor": "white",
           "ticks": "",
           "title": {
            "standoff": 15
           },
           "zerolinecolor": "white",
           "zerolinewidth": 2
          },
          "yaxis": {
           "automargin": true,
           "gridcolor": "white",
           "linecolor": "white",
           "ticks": "",
           "title": {
            "standoff": 15
           },
           "zerolinecolor": "white",
           "zerolinewidth": 2
          }
         }
        },
        "title": {
         "text": "Ethanol per capita per state"
        }
       }
      }
     },
     "metadata": {},
     "output_type": "display_data"
    }
   ],
   "source": [
    "import plotly.express as px\n",
    "\n",
    "fig = px.choropleth(chloro_data_pd, locations='Abbreviation', color='Ethanol_per_capita', scope=\"usa\", locationmode=\"USA-states\",title=\"Ethanol per capita per state\",hover_data=\"State\")\n",
    " \n",
    "fig.show()"
   ]
  },
  {
   "cell_type": "markdown",
   "metadata": {},
   "source": [
    "Okay great, we can see which state has the most accidents and ethanol per capita. Now, we need to see if those two are correlated.\n",
    "Below are the top ten States by accidents and Ethanol"
   ]
  },
  {
   "cell_type": "code",
   "execution_count": 30,
   "metadata": {},
   "outputs": [
    {
     "name": "stderr",
     "output_type": "stream",
     "text": [
      "24/12/10 16:12:31 WARN WindowExec: No Partition Defined for Window operation! Moving all data to a single partition, this can cause serious performance degradation.\n",
      "24/12/10 16:12:31 WARN WindowExec: No Partition Defined for Window operation! Moving all data to a single partition, this can cause serious performance degradation.\n",
      "24/12/10 16:12:31 WARN WindowExec: No Partition Defined for Window operation! Moving all data to a single partition, this can cause serious performance degradation.\n",
      "24/12/10 16:12:32 WARN WindowExec: No Partition Defined for Window operation! Moving all data to a single partition, this can cause serious performance degradation.\n",
      "24/12/10 16:12:32 WARN WindowExec: No Partition Defined for Window operation! Moving all data to a single partition, this can cause serious performance degradation.\n",
      "24/12/10 16:12:32 WARN WindowExec: No Partition Defined for Window operation! Moving all data to a single partition, this can cause serious performance degradation.\n",
      "24/12/10 16:12:32 WARN WindowExec: No Partition Defined for Window operation! Moving all data to a single partition, this can cause serious performance degradation.\n",
      "24/12/10 16:12:32 WARN WindowExec: No Partition Defined for Window operation! Moving all data to a single partition, this can cause serious performance degradation.\n",
      "24/12/10 16:12:32 WARN WindowExec: No Partition Defined for Window operation! Moving all data to a single partition, this can cause serious performance degradation.\n",
      "24/12/10 16:12:57 WARN WindowExec: No Partition Defined for Window operation! Moving all data to a single partition, this can cause serious performance degradation.\n",
      "24/12/10 16:12:57 WARN WindowExec: No Partition Defined for Window operation! Moving all data to a single partition, this can cause serious performance degradation.\n",
      "24/12/10 16:12:57 WARN WindowExec: No Partition Defined for Window operation! Moving all data to a single partition, this can cause serious performance degradation.\n",
      "24/12/10 16:12:57 WARN WindowExec: No Partition Defined for Window operation! Moving all data to a single partition, this can cause serious performance degradation.\n",
      "24/12/10 16:12:57 WARN WindowExec: No Partition Defined for Window operation! Moving all data to a single partition, this can cause serious performance degradation.\n",
      "24/12/10 16:12:57 WARN WindowExec: No Partition Defined for Window operation! Moving all data to a single partition, this can cause serious performance degradation.\n",
      "24/12/10 16:12:57 WARN WindowExec: No Partition Defined for Window operation! Moving all data to a single partition, this can cause serious performance degradation.\n",
      "24/12/10 16:12:57 WARN WindowExec: No Partition Defined for Window operation! Moving all data to a single partition, this can cause serious performance degradation.\n",
      "24/12/10 16:13:02 WARN WindowExec: No Partition Defined for Window operation! Moving all data to a single partition, this can cause serious performance degradation.\n",
      "24/12/10 16:13:02 WARN WindowExec: No Partition Defined for Window operation! Moving all data to a single partition, this can cause serious performance degradation.\n",
      "24/12/10 16:13:02 WARN WindowExec: No Partition Defined for Window operation! Moving all data to a single partition, this can cause serious performance degradation.\n",
      "24/12/10 16:13:02 WARN WindowExec: No Partition Defined for Window operation! Moving all data to a single partition, this can cause serious performance degradation.\n",
      "24/12/10 16:13:02 WARN WindowExec: No Partition Defined for Window operation! Moving all data to a single partition, this can cause serious performance degradation.\n",
      "24/12/10 16:13:02 WARN WindowExec: No Partition Defined for Window operation! Moving all data to a single partition, this can cause serious performance degradation.\n",
      "24/12/10 16:13:02 WARN WindowExec: No Partition Defined for Window operation! Moving all data to a single partition, this can cause serious performance degradation.\n",
      "24/12/10 16:13:02 WARN WindowExec: No Partition Defined for Window operation! Moving all data to a single partition, this can cause serious performance degradation.\n",
      "24/12/10 16:13:02 WARN WindowExec: No Partition Defined for Window operation! Moving all data to a single partition, this can cause serious performance degradation.\n",
      "24/12/10 16:13:02 WARN WindowExec: No Partition Defined for Window operation! Moving all data to a single partition, this can cause serious performance degradation.\n",
      "24/12/10 16:13:02 WARN WindowExec: No Partition Defined for Window operation! Moving all data to a single partition, this can cause serious performance degradation.\n",
      "24/12/10 16:13:02 WARN WindowExec: No Partition Defined for Window operation! Moving all data to a single partition, this can cause serious performance degradation.\n",
      "24/12/10 16:13:02 WARN WindowExec: No Partition Defined for Window operation! Moving all data to a single partition, this can cause serious performance degradation.\n",
      "24/12/10 16:13:02 WARN WindowExec: No Partition Defined for Window operation! Moving all data to a single partition, this can cause serious performance degradation.\n",
      "24/12/10 16:13:02 WARN WindowExec: No Partition Defined for Window operation! Moving all data to a single partition, this can cause serious performance degradation.\n",
      "24/12/10 16:13:02 WARN WindowExec: No Partition Defined for Window operation! Moving all data to a single partition, this can cause serious performance degradation.\n"
     ]
    }
   ],
   "source": [
    "from pyspark.sql.functions import rank\n",
    "from pyspark.sql.window import Window\n",
    "\n",
    "chloro_data_accidents = chloro_data_accidents.withColumn(\n",
    "    \"Accidents_Rank\",\n",
    "    rank().over(Window.orderBy(col(\"Accidents_per_capita\").desc()))\n",
    ").withColumn(\n",
    "    \"Ethanol_Rank\",\n",
    "    rank().over(Window.orderBy(col(\"Ethanol_per_capita\").desc()))\n",
    ")\n",
    "\n",
    "chloro_data_rank_pd = chloro_data_accidents.toPandas()\n",
    "acc_list = chloro_data_rank_pd.sort_values(\"Accidents_Rank\")[\"State\"].tolist()\n",
    "eth_list = chloro_data_rank_pd.sort_values(\"Ethanol_Rank\")[\"State\"].tolist()\n"
   ]
  },
  {
   "cell_type": "code",
   "execution_count": 31,
   "metadata": {},
   "outputs": [
    {
     "name": "stdout",
     "output_type": "stream",
     "text": [
      "Top 10 States ranked by the number of Accidents per drinking residents\n"
     ]
    },
    {
     "data": {
      "text/plain": [
       "['South Carolina',\n",
       " 'Oregon',\n",
       " 'California',\n",
       " 'Florida',\n",
       " 'Utah',\n",
       " 'Minnesota',\n",
       " 'Louisiana',\n",
       " 'North Carolina',\n",
       " 'Virginia',\n",
       " 'Oklahoma']"
      ]
     },
     "execution_count": 31,
     "metadata": {},
     "output_type": "execute_result"
    }
   ],
   "source": [
    "print(\"Top 10 States ranked by the number of Accidents per drinking residents\")\n",
    "acc_list[0:10]"
   ]
  },
  {
   "cell_type": "code",
   "execution_count": 32,
   "metadata": {},
   "outputs": [
    {
     "name": "stdout",
     "output_type": "stream",
     "text": [
      "Top 10 States ranked by the gallons of Ethanol consumed per drinking residents\n"
     ]
    },
    {
     "data": {
      "text/plain": [
       "['New Hampshire',\n",
       " 'District of Columbia',\n",
       " 'Delaware',\n",
       " 'Nevada',\n",
       " 'North Dakota',\n",
       " 'Montana',\n",
       " 'Vermont',\n",
       " 'Wisconsin',\n",
       " 'Colorado',\n",
       " 'Maine']"
      ]
     },
     "execution_count": 32,
     "metadata": {},
     "output_type": "execute_result"
    }
   ],
   "source": [
    "print(\"Top 10 States ranked by the gallons of Ethanol consumed per drinking residents\")\n",
    "eth_list[0:10]"
   ]
  },
  {
   "cell_type": "markdown",
   "metadata": {},
   "source": [
    "We can rank the states based on their accident and alchohol consumption and then find out if there is a correlation by plotting a scatterplot of their ranks in the two lists"
   ]
  },
  {
   "cell_type": "code",
   "execution_count": 33,
   "metadata": {},
   "outputs": [
    {
     "name": "stdout",
     "output_type": "stream",
     "text": [
      "[('South Carolina', 0, 37), ('Oregon', 1, 12), ('California', 2, 18), ('Florida', 3, 13), ('Utah', 4, 48), ('Minnesota', 5, 11), ('Louisiana', 6, 16), ('North Carolina', 7, 31), ('Virginia', 8, 36), ('Oklahoma', 9, 45), ('Tennessee', 10, 33), ('Arizona', 11, 27), ('Texas', 12, 25), ('Maryland', 13, 38), ('Alabama', 14, 43), ('Pennsylvania', 15, 26), ('District of Columbia', 16, 1), ('Nebraska', 17, 35), ('Rhode Island', 18, 14), ('Connecticut', 19, 20), ('Michigan', 20, 23), ('Georgia', 21, 44), ('New York', 22, 34), ('Washington', 23, 30), ('Colorado', 24, 8), ('Illinois', 25, 24), ('Montana', 26, 5), ('Delaware', 27, 2), ('New Jersey', 28, 21), ('Missouri', 29, 17), ('Massachusetts', 30, 15), ('Indiana', 31, 32), ('Ohio', 32, 40), ('New Hampshire', 33, 0), ('Iowa', 34, 22), ('Kentucky', 35, 41), ('Nevada', 36, 3), ('Idaho', 37, 39), ('Kansas', 38, 42), ('New Mexico', 39, 29), ('Wisconsin', 40, 7), ('Arkansas', 41, 46), ('West Virginia', 42, 47), ('Mississippi', 43, 28), ('North Dakota', 44, 4), ('Wyoming', 45, 10), ('Maine', 46, 9), ('Vermont', 47, 6), ('South Dakota', 48, 19)]\n"
     ]
    }
   ],
   "source": [
    "acc_to_eth_list = [\n",
    "    (state, acc_list.index(state), eth_list.index(state)) for state in acc_list\n",
    "]\n",
    "print(acc_to_eth_list)"
   ]
  },
  {
   "cell_type": "code",
   "execution_count": 34,
   "metadata": {},
   "outputs": [
    {
     "data": {
      "image/png": "[encoded data removed]",
      "text/plain": [
       "<Figure size 1000x600 with 1 Axes>"
      ]
     },
     "metadata": {},
     "output_type": "display_data"
    }
   ],
   "source": [
    "x = [x[1] for x in acc_to_eth_list]\n",
    "y = [x[2] for x in acc_to_eth_list]\n",
    "plt.figure(figsize=(10, 6))\n",
    "plt.scatter(x,y)\n",
    "plt.title(\"Accidents P.C Ranks v/s Ethanol P.C Rank\")\n",
    "plt.xlabel(\"Accidents per capita RANK\")\n",
    "plt.ylabel(\"Gallons of Ethanol per capita RANK\")\n",
    "# Add labels to each point\n",
    "for i, name in enumerate([x[0] for x in acc_to_eth_list]):\n",
    "    plt.annotate(name, (x[i], y[i]))\n",
    "\n",
    "plt.show()"
   ]
  },
  {
   "cell_type": "code",
   "execution_count": 35,
   "metadata": {},
   "outputs": [
    {
     "name": "stdout",
     "output_type": "stream",
     "text": [
      "Spearman Correlation Coefficient: -0.16204081632653058\n"
     ]
    }
   ],
   "source": [
    "from scipy import stats\n",
    "spearman_corr = stats.spearmanr(\n",
    "    chloro_data_pd[\"Ethanol_per_capita\"],\n",
    "    chloro_data_pd[\"Accidents_per_capita\"]\n",
    ")\n",
    "print(\"Spearman Correlation Coefficient:\", spearman_corr.correlation)"
   ]
  },
  {
   "cell_type": "markdown",
   "metadata": {},
   "source": [
    "Like we saw in the scatter plot, There is no correlation between the alcohol drinking states and the accident states."
   ]
  },
  {
   "cell_type": "markdown",
   "metadata": {},
   "source": [
    "We will not stop there. We might be able to get more patterns/insights out of our accidents dataset. We will try to plot a heatmap and see which day of the week more likely to have an accident."
   ]
  },
  {
   "cell_type": "code",
   "execution_count": 36,
   "metadata": {},
   "outputs": [
    {
     "data": {
      "image/png": "[encoded data removed]",
      "text/plain": [
       "<Figure size 1200x600 with 2 Axes>"
      ]
     },
     "metadata": {},
     "output_type": "display_data"
    }
   ],
   "source": [
    "import pandas as pd\n",
    "import seaborn as sns\n",
    "import matplotlib.pyplot as plt\n",
    "df = pd.read_csv(\"data.csv\")\n",
    "df['Start_Time'] = pd.to_datetime(df['Start_Time'], format='mixed') # it has multiple datetime formats hence mixed\n",
    "\n",
    "# Create new columns for day of the week, date, and year\n",
    "df['Day_of_Week'] = df['Start_Time'].dt.day_name()      \n",
    "df['Date'] = df['Start_Time'].dt.date                \n",
    "df['Year'] = df['Start_Time'].dt.year \n",
    "df = df[(df['Year'] > 2015) & (df['Year'] < 2022)].reset_index(drop=True)\n",
    "df.head(2)\n",
    "\n",
    "# Convert Start_Time to datetime and extract the hour\n",
    "df['Start_Time'] = pd.to_datetime(df['Start_Time'])\n",
    "df['Hour'] = df['Start_Time'].dt.hour\n",
    "\n",
    "# Pivot the data to create a Day vs. Hour matrix\n",
    "heatmap_data = df.pivot_table(index='Day_of_Week', columns='Hour', \n",
    "                              values='Severity', aggfunc='count', fill_value=0)\n",
    "\n",
    "days_order = ['Monday', 'Tuesday', 'Wednesday', 'Thursday', 'Friday', 'Saturday', 'Sunday']\n",
    "heatmap_data = heatmap_data.reindex(days_order)\n",
    "\n",
    "plt.figure(figsize=(12, 6))\n",
    "sns.heatmap(heatmap_data, cmap=\"YlGnBu\", annot=False, fmt=\"d\", linewidths=.5)\n",
    "plt.title(\"Accidents by Day of Week and Hour of Day\")\n",
    "plt.xlabel(\"Hour of Day\")\n",
    "plt.ylabel(\"Day of Week\")\n",
    "plt.tight_layout()\n",
    "plt.show()"
   ]
  },
  {
   "cell_type": "markdown",
   "metadata": {},
   "source": [
    "In the above heatmap we see that the accident mostly occurs during the weekdays and peak traffic rush hours."
   ]
  },
  {
   "cell_type": "code",
   "execution_count": 38,
   "metadata": {},
   "outputs": [
    {
     "name": "stderr",
     "output_type": "stream",
     "text": [
      "                                                                                \r"
     ]
    },
    {
     "data": {
      "application/vnd.plotly.v1+json": {
       "config": {
        "plotlyServerURL": "https://plot.ly"
       },
       "data": [
        {
         "line": {
          "color": "blue"
         },
         "mode": "lines+markers",
         "name": "Alcohol Consumption (Ethanol per capita)",
         "type": "scatter",
         "x": [
          2016,
          2017,
          2018,
          2019,
          2020,
          2021
         ],
         "y": [
          621577081,
          624398481,
          632496142,
          641273100,
          664672679,
          694650072
         ]
        }
       ],
       "layout": {
        "legend": {
         "title": {
          "text": "Metrics"
         }
        },
        "template": {
         "data": {
          "bar": [
           {
            "error_x": {
             "color": "#2a3f5f"
            },
            "error_y": {
             "color": "#2a3f5f"
            },
            "marker": {
             "line": {
              "color": "white",
              "width": 0.5
             },
             "pattern": {
              "fillmode": "overlay",
              "size": 10,
              "solidity": 0.2
             }
            },
            "type": "bar"
           }
          ],
          "barpolar": [
           {
            "marker": {
             "line": {
              "color": "white",
              "width": 0.5
             },
             "pattern": {
              "fillmode": "overlay",
              "size": 10,
              "solidity": 0.2
             }
            },
            "type": "barpolar"
           }
          ],
          "carpet": [
           {
            "aaxis": {
             "endlinecolor": "#2a3f5f",
             "gridcolor": "#C8D4E3",
             "linecolor": "#C8D4E3",
             "minorgridcolor": "#C8D4E3",
             "startlinecolor": "#2a3f5f"
            },
            "baxis": {
             "endlinecolor": "#2a3f5f",
             "gridcolor": "#C8D4E3",
             "linecolor": "#C8D4E3",
             "minorgridcolor": "#C8D4E3",
             "startlinecolor": "#2a3f5f"
            },
            "type": "carpet"
           }
          ],
          "choropleth": [
           {
            "colorbar": {
             "outlinewidth": 0,
             "ticks": ""
            },
            "type": "choropleth"
           }
          ],
          "contour": [
           {
            "colorbar": {
             "outlinewidth": 0,
             "ticks": ""
            },
            "colorscale": [
             [
              0,
              "#0d0887"
             ],
             [
              0.1111111111111111,
              "#46039f"
             ],
             [
              0.2222222222222222,
              "#7201a8"
             ],
             [
              0.3333333333333333,
              "#9c179e"
             ],
             [
              0.4444444444444444,
              "#bd3786"
             ],
             [
              0.5555555555555556,
              "#d8576b"
             ],
             [
              0.6666666666666666,
              "#ed7953"
             ],
             [
              0.7777777777777778,
              "#fb9f3a"
             ],
             [
              0.8888888888888888,
              "#fdca26"
             ],
             [
              1,
              "#f0f921"
             ]
            ],
            "type": "contour"
           }
          ],
          "contourcarpet": [
           {
            "colorbar": {
             "outlinewidth": 0,
             "ticks": ""
            },
            "type": "contourcarpet"
           }
          ],
          "heatmap": [
           {
            "colorbar": {
             "outlinewidth": 0,
             "ticks": ""
            },
            "colorscale": [
             [
              0,
              "#0d0887"
             ],
             [
              0.1111111111111111,
              "#46039f"
             ],
             [
              0.2222222222222222,
              "#7201a8"
             ],
             [
              0.3333333333333333,
              "#9c179e"
             ],
             [
              0.4444444444444444,
              "#bd3786"
             ],
             [
              0.5555555555555556,
              "#d8576b"
             ],
             [
              0.6666666666666666,
              "#ed7953"
             ],
             [
              0.7777777777777778,
              "#fb9f3a"
             ],
             [
              0.8888888888888888,
              "#fdca26"
             ],
             [
              1,
              "#f0f921"
             ]
            ],
            "type": "heatmap"
           }
          ],
          "heatmapgl": [
           {
            "colorbar": {
             "outlinewidth": 0,
             "ticks": ""
            },
            "colorscale": [
             [
              0,
              "#0d0887"
             ],
             [
              0.1111111111111111,
              "#46039f"
             ],
             [
              0.2222222222222222,
              "#7201a8"
             ],
             [
              0.3333333333333333,
              "#9c179e"
             ],
             [
              0.4444444444444444,
              "#bd3786"
             ],
             [
              0.5555555555555556,
              "#d8576b"
             ],
             [
              0.6666666666666666,
              "#ed7953"
             ],
             [
              0.7777777777777778,
              "#fb9f3a"
             ],
             [
              0.8888888888888888,
              "#fdca26"
             ],
             [
              1,
              "#f0f921"
             ]
            ],
            "type": "heatmapgl"
           }
          ],
          "histogram": [
           {
            "marker": {
             "pattern": {
              "fillmode": "overlay",
              "size": 10,
              "solidity": 0.2
             }
            },
            "type": "histogram"
           }
          ],
          "histogram2d": [
           {
            "colorbar": {
             "outlinewidth": 0,
             "ticks": ""
            },
            "colorscale": [
             [
              0,
              "#0d0887"
             ],
             [
              0.1111111111111111,
              "#46039f"
             ],
             [
              0.2222222222222222,
              "#7201a8"
             ],
             [
              0.3333333333333333,
              "#9c179e"
             ],
             [
              0.4444444444444444,
              "#bd3786"
             ],
             [
              0.5555555555555556,
              "#d8576b"
             ],
             [
              0.6666666666666666,
              "#ed7953"
             ],
             [
              0.7777777777777778,
              "#fb9f3a"
             ],
             [
              0.8888888888888888,
              "#fdca26"
             ],
             [
              1,
              "#f0f921"
             ]
            ],
            "type": "histogram2d"
           }
          ],
          "histogram2dcontour": [
           {
            "colorbar": {
             "outlinewidth": 0,
             "ticks": ""
            },
            "colorscale": [
             [
              0,
              "#0d0887"
             ],
             [
              0.1111111111111111,
              "#46039f"
             ],
             [
              0.2222222222222222,
              "#7201a8"
             ],
             [
              0.3333333333333333,
              "#9c179e"
             ],
             [
              0.4444444444444444,
              "#bd3786"
             ],
             [
              0.5555555555555556,
              "#d8576b"
             ],
             [
              0.6666666666666666,
              "#ed7953"
             ],
             [
              0.7777777777777778,
              "#fb9f3a"
             ],
             [
              0.8888888888888888,
              "#fdca26"
             ],
             [
              1,
              "#f0f921"
             ]
            ],
            "type": "histogram2dcontour"
           }
          ],
          "mesh3d": [
           {
            "colorbar": {
             "outlinewidth": 0,
             "ticks": ""
            },
            "type": "mesh3d"
           }
          ],
          "parcoords": [
           {
            "line": {
             "colorbar": {
              "outlinewidth": 0,
              "ticks": ""
             }
            },
            "type": "parcoords"
           }
          ],
          "pie": [
           {
            "automargin": true,
            "type": "pie"
           }
          ],
          "scatter": [
           {
            "fillpattern": {
             "fillmode": "overlay",
             "size": 10,
             "solidity": 0.2
            },
            "type": "scatter"
           }
          ],
          "scatter3d": [
           {
            "line": {
             "colorbar": {
              "outlinewidth": 0,
              "ticks": ""
             }
            },
            "marker": {
             "colorbar": {
              "outlinewidth": 0,
              "ticks": ""
             }
            },
            "type": "scatter3d"
           }
          ],
          "scattercarpet": [
           {
            "marker": {
             "colorbar": {
              "outlinewidth": 0,
              "ticks": ""
             }
            },
            "type": "scattercarpet"
           }
          ],
          "scattergeo": [
           {
            "marker": {
             "colorbar": {
              "outlinewidth": 0,
              "ticks": ""
             }
            },
            "type": "scattergeo"
           }
          ],
          "scattergl": [
           {
            "marker": {
             "colorbar": {
              "outlinewidth": 0,
              "ticks": ""
             }
            },
            "type": "scattergl"
           }
          ],
          "scattermapbox": [
           {
            "marker": {
             "colorbar": {
              "outlinewidth": 0,
              "ticks": ""
             }
            },
            "type": "scattermapbox"
           }
          ],
          "scatterpolar": [
           {
            "marker": {
             "colorbar": {
              "outlinewidth": 0,
              "ticks": ""
             }
            },
            "type": "scatterpolar"
           }
          ],
          "scatterpolargl": [
           {
            "marker": {
             "colorbar": {
              "outlinewidth": 0,
              "ticks": ""
             }
            },
            "type": "scatterpolargl"
           }
          ],
          "scatterternary": [
           {
            "marker": {
             "colorbar": {
              "outlinewidth": 0,
              "ticks": ""
             }
            },
            "type": "scatterternary"
           }
          ],
          "surface": [
           {
            "colorbar": {
             "outlinewidth": 0,
             "ticks": ""
            },
            "colorscale": [
             [
              0,
              "#0d0887"
             ],
             [
              0.1111111111111111,
              "#46039f"
             ],
             [
              0.2222222222222222,
              "#7201a8"
             ],
             [
              0.3333333333333333,
              "#9c179e"
             ],
             [
              0.4444444444444444,
              "#bd3786"
             ],
             [
              0.5555555555555556,
              "#d8576b"
             ],
             [
              0.6666666666666666,
              "#ed7953"
             ],
             [
              0.7777777777777778,
              "#fb9f3a"
             ],
             [
              0.8888888888888888,
              "#fdca26"
             ],
             [
              1,
              "#f0f921"
             ]
            ],
            "type": "surface"
           }
          ],
          "table": [
           {
            "cells": {
             "fill": {
              "color": "#EBF0F8"
             },
             "line": {
              "color": "white"
             }
            },
            "header": {
             "fill": {
              "color": "#C8D4E3"
             },
             "line": {
              "color": "white"
             }
            },
            "type": "table"
           }
          ]
         },
         "layout": {
          "annotationdefaults": {
           "arrowcolor": "#2a3f5f",
           "arrowhead": 0,
           "arrowwidth": 1
          },
          "autotypenumbers": "strict",
          "coloraxis": {
           "colorbar": {
            "outlinewidth": 0,
            "ticks": ""
           }
          },
          "colorscale": {
           "diverging": [
            [
             0,
             "#8e0152"
            ],
            [
             0.1,
             "#c51b7d"
            ],
            [
             0.2,
             "#de77ae"
            ],
            [
             0.3,
             "#f1b6da"
            ],
            [
             0.4,
             "#fde0ef"
            ],
            [
             0.5,
             "#f7f7f7"
            ],
            [
             0.6,
             "#e6f5d0"
            ],
            [
             0.7,
             "#b8e186"
            ],
            [
             0.8,
             "#7fbc41"
            ],
            [
             0.9,
             "#4d9221"
            ],
            [
             1,
             "#276419"
            ]
           ],
           "sequential": [
            [
             0,
             "#0d0887"
            ],
            [
             0.1111111111111111,
             "#46039f"
            ],
            [
             0.2222222222222222,
             "#7201a8"
            ],
            [
             0.3333333333333333,
             "#9c179e"
            ],
            [
             0.4444444444444444,
             "#bd3786"
            ],
            [
             0.5555555555555556,
             "#d8576b"
            ],
            [
             0.6666666666666666,
             "#ed7953"
            ],
            [
             0.7777777777777778,
             "#fb9f3a"
            ],
            [
             0.8888888888888888,
             "#fdca26"
            ],
            [
             1,
             "#f0f921"
            ]
           ],
           "sequentialminus": [
            [
             0,
             "#0d0887"
            ],
            [
             0.1111111111111111,
             "#46039f"
            ],
            [
             0.2222222222222222,
             "#7201a8"
            ],
            [
             0.3333333333333333,
             "#9c179e"
            ],
            [
             0.4444444444444444,
             "#bd3786"
            ],
            [
             0.5555555555555556,
             "#d8576b"
            ],
            [
             0.6666666666666666,
             "#ed7953"
            ],
            [
             0.7777777777777778,
             "#fb9f3a"
            ],
            [
             0.8888888888888888,
             "#fdca26"
            ],
            [
             1,
             "#f0f921"
            ]
           ]
          },
          "colorway": [
           "#636efa",
           "#EF553B",
           "#00cc96",
           "#ab63fa",
           "#FFA15A",
           "#19d3f3",
           "#FF6692",
           "#B6E880",
           "#FF97FF",
           "#FECB52"
          ],
          "font": {
           "color": "#2a3f5f"
          },
          "geo": {
           "bgcolor": "white",
           "lakecolor": "white",
           "landcolor": "white",
           "showlakes": true,
           "showland": true,
           "subunitcolor": "#C8D4E3"
          },
          "hoverlabel": {
           "align": "left"
          },
          "hovermode": "closest",
          "mapbox": {
           "style": "light"
          },
          "paper_bgcolor": "white",
          "plot_bgcolor": "white",
          "polar": {
           "angularaxis": {
            "gridcolor": "#EBF0F8",
            "linecolor": "#EBF0F8",
            "ticks": ""
           },
           "bgcolor": "white",
           "radialaxis": {
            "gridcolor": "#EBF0F8",
            "linecolor": "#EBF0F8",
            "ticks": ""
           }
          },
          "scene": {
           "xaxis": {
            "backgroundcolor": "white",
            "gridcolor": "#DFE8F3",
            "gridwidth": 2,
            "linecolor": "#EBF0F8",
            "showbackground": true,
            "ticks": "",
            "zerolinecolor": "#EBF0F8"
           },
           "yaxis": {
            "backgroundcolor": "white",
            "gridcolor": "#DFE8F3",
            "gridwidth": 2,
            "linecolor": "#EBF0F8",
            "showbackground": true,
            "ticks": "",
            "zerolinecolor": "#EBF0F8"
           },
           "zaxis": {
            "backgroundcolor": "white",
            "gridcolor": "#DFE8F3",
            "gridwidth": 2,
            "linecolor": "#EBF0F8",
            "showbackground": true,
            "ticks": "",
            "zerolinecolor": "#EBF0F8"
           }
          },
          "shapedefaults": {
           "line": {
            "color": "#2a3f5f"
           }
          },
          "ternary": {
           "aaxis": {
            "gridcolor": "#DFE8F3",
            "linecolor": "#A2B1C6",
            "ticks": ""
           },
           "baxis": {
            "gridcolor": "#DFE8F3",
            "linecolor": "#A2B1C6",
            "ticks": ""
           },
           "bgcolor": "white",
           "caxis": {
            "gridcolor": "#DFE8F3",
            "linecolor": "#A2B1C6",
            "ticks": ""
           }
          },
          "title": {
           "x": 0.05
          },
          "xaxis": {
           "automargin": true,
           "gridcolor": "#EBF0F8",
           "linecolor": "#EBF0F8",
           "ticks": "",
           "title": {
            "standoff": 15
           },
           "zerolinecolor": "#EBF0F8",
           "zerolinewidth": 2
          },
          "yaxis": {
           "automargin": true,
           "gridcolor": "#EBF0F8",
           "linecolor": "#EBF0F8",
           "ticks": "",
           "title": {
            "standoff": 15
           },
           "zerolinecolor": "#EBF0F8",
           "zerolinewidth": 2
          }
         }
        },
        "title": {
         "text": "Time Series of Alcohol Consumption"
        },
        "xaxis": {
         "title": {
          "text": "Year"
         }
        },
        "yaxis": {
         "title": {
          "text": "Gallons"
         }
        }
       }
      }
     },
     "metadata": {},
     "output_type": "display_data"
    },
    {
     "data": {
      "application/vnd.plotly.v1+json": {
       "config": {
        "plotlyServerURL": "https://plot.ly"
       },
       "data": [
        {
         "line": {
          "color": "red"
         },
         "mode": "lines+markers",
         "name": "Accidents",
         "type": "scatter",
         "x": [
          2016,
          2017,
          2018,
          2019,
          2020,
          2021
         ],
         "y": [
          410821,
          718093,
          893426,
          954303,
          1178913,
          1563753
         ]
        }
       ],
       "layout": {
        "legend": {
         "title": {
          "text": "Metrics"
         }
        },
        "template": {
         "data": {
          "bar": [
           {
            "error_x": {
             "color": "#2a3f5f"
            },
            "error_y": {
             "color": "#2a3f5f"
            },
            "marker": {
             "line": {
              "color": "white",
              "width": 0.5
             },
             "pattern": {
              "fillmode": "overlay",
              "size": 10,
              "solidity": 0.2
             }
            },
            "type": "bar"
           }
          ],
          "barpolar": [
           {
            "marker": {
             "line": {
              "color": "white",
              "width": 0.5
             },
             "pattern": {
              "fillmode": "overlay",
              "size": 10,
              "solidity": 0.2
             }
            },
            "type": "barpolar"
           }
          ],
          "carpet": [
           {
            "aaxis": {
             "endlinecolor": "#2a3f5f",
             "gridcolor": "#C8D4E3",
             "linecolor": "#C8D4E3",
             "minorgridcolor": "#C8D4E3",
             "startlinecolor": "#2a3f5f"
            },
            "baxis": {
             "endlinecolor": "#2a3f5f",
             "gridcolor": "#C8D4E3",
             "linecolor": "#C8D4E3",
             "minorgridcolor": "#C8D4E3",
             "startlinecolor": "#2a3f5f"
            },
            "type": "carpet"
           }
          ],
          "choropleth": [
           {
            "colorbar": {
             "outlinewidth": 0,
             "ticks": ""
            },
            "type": "choropleth"
           }
          ],
          "contour": [
           {
            "colorbar": {
             "outlinewidth": 0,
             "ticks": ""
            },
            "colorscale": [
             [
              0,
              "#0d0887"
             ],
             [
              0.1111111111111111,
              "#46039f"
             ],
             [
              0.2222222222222222,
              "#7201a8"
             ],
             [
              0.3333333333333333,
              "#9c179e"
             ],
             [
              0.4444444444444444,
              "#bd3786"
             ],
             [
              0.5555555555555556,
              "#d8576b"
             ],
             [
              0.6666666666666666,
              "#ed7953"
             ],
             [
              0.7777777777777778,
              "#fb9f3a"
             ],
             [
              0.8888888888888888,
              "#fdca26"
             ],
             [
              1,
              "#f0f921"
             ]
            ],
            "type": "contour"
           }
          ],
          "contourcarpet": [
           {
            "colorbar": {
             "outlinewidth": 0,
             "ticks": ""
            },
            "type": "contourcarpet"
           }
          ],
          "heatmap": [
           {
            "colorbar": {
             "outlinewidth": 0,
             "ticks": ""
            },
            "colorscale": [
             [
              0,
              "#0d0887"
             ],
             [
              0.1111111111111111,
              "#46039f"
             ],
             [
              0.2222222222222222,
              "#7201a8"
             ],
             [
              0.3333333333333333,
              "#9c179e"
             ],
             [
              0.4444444444444444,
              "#bd3786"
             ],
             [
              0.5555555555555556,
              "#d8576b"
             ],
             [
              0.6666666666666666,
              "#ed7953"
             ],
             [
              0.7777777777777778,
              "#fb9f3a"
             ],
             [
              0.8888888888888888,
              "#fdca26"
             ],
             [
              1,
              "#f0f921"
             ]
            ],
            "type": "heatmap"
           }
          ],
          "heatmapgl": [
           {
            "colorbar": {
             "outlinewidth": 0,
             "ticks": ""
            },
            "colorscale": [
             [
              0,
              "#0d0887"
             ],
             [
              0.1111111111111111,
              "#46039f"
             ],
             [
              0.2222222222222222,
              "#7201a8"
             ],
             [
              0.3333333333333333,
              "#9c179e"
             ],
             [
              0.4444444444444444,
              "#bd3786"
             ],
             [
              0.5555555555555556,
              "#d8576b"
             ],
             [
              0.6666666666666666,
              "#ed7953"
             ],
             [
              0.7777777777777778,
              "#fb9f3a"
             ],
             [
              0.8888888888888888,
              "#fdca26"
             ],
             [
              1,
              "#f0f921"
             ]
            ],
            "type": "heatmapgl"
           }
          ],
          "histogram": [
           {
            "marker": {
             "pattern": {
              "fillmode": "overlay",
              "size": 10,
              "solidity": 0.2
             }
            },
            "type": "histogram"
           }
          ],
          "histogram2d": [
           {
            "colorbar": {
             "outlinewidth": 0,
             "ticks": ""
            },
            "colorscale": [
             [
              0,
              "#0d0887"
             ],
             [
              0.1111111111111111,
              "#46039f"
             ],
             [
              0.2222222222222222,
              "#7201a8"
             ],
             [
              0.3333333333333333,
              "#9c179e"
             ],
             [
              0.4444444444444444,
              "#bd3786"
             ],
             [
              0.5555555555555556,
              "#d8576b"
             ],
             [
              0.6666666666666666,
              "#ed7953"
             ],
             [
              0.7777777777777778,
              "#fb9f3a"
             ],
             [
              0.8888888888888888,
              "#fdca26"
             ],
             [
              1,
              "#f0f921"
             ]
            ],
            "type": "histogram2d"
           }
          ],
          "histogram2dcontour": [
           {
            "colorbar": {
             "outlinewidth": 0,
             "ticks": ""
            },
            "colorscale": [
             [
              0,
              "#0d0887"
             ],
             [
              0.1111111111111111,
              "#46039f"
             ],
             [
              0.2222222222222222,
              "#7201a8"
             ],
             [
              0.3333333333333333,
              "#9c179e"
             ],
             [
              0.4444444444444444,
              "#bd3786"
             ],
             [
              0.5555555555555556,
              "#d8576b"
             ],
             [
              0.6666666666666666,
              "#ed7953"
             ],
             [
              0.7777777777777778,
              "#fb9f3a"
             ],
             [
              0.8888888888888888,
              "#fdca26"
             ],
             [
              1,
              "#f0f921"
             ]
            ],
            "type": "histogram2dcontour"
           }
          ],
          "mesh3d": [
           {
            "colorbar": {
             "outlinewidth": 0,
             "ticks": ""
            },
            "type": "mesh3d"
           }
          ],
          "parcoords": [
           {
            "line": {
             "colorbar": {
              "outlinewidth": 0,
              "ticks": ""
             }
            },
            "type": "parcoords"
           }
          ],
          "pie": [
           {
            "automargin": true,
            "type": "pie"
           }
          ],
          "scatter": [
           {
            "fillpattern": {
             "fillmode": "overlay",
             "size": 10,
             "solidity": 0.2
            },
            "type": "scatter"
           }
          ],
          "scatter3d": [
           {
            "line": {
             "colorbar": {
              "outlinewidth": 0,
              "ticks": ""
             }
            },
            "marker": {
             "colorbar": {
              "outlinewidth": 0,
              "ticks": ""
             }
            },
            "type": "scatter3d"
           }
          ],
          "scattercarpet": [
           {
            "marker": {
             "colorbar": {
              "outlinewidth": 0,
              "ticks": ""
             }
            },
            "type": "scattercarpet"
           }
          ],
          "scattergeo": [
           {
            "marker": {
             "colorbar": {
              "outlinewidth": 0,
              "ticks": ""
             }
            },
            "type": "scattergeo"
           }
          ],
          "scattergl": [
           {
            "marker": {
             "colorbar": {
              "outlinewidth": 0,
              "ticks": ""
             }
            },
            "type": "scattergl"
           }
          ],
          "scattermapbox": [
           {
            "marker": {
             "colorbar": {
              "outlinewidth": 0,
              "ticks": ""
             }
            },
            "type": "scattermapbox"
           }
          ],
          "scatterpolar": [
           {
            "marker": {
             "colorbar": {
              "outlinewidth": 0,
              "ticks": ""
             }
            },
            "type": "scatterpolar"
           }
          ],
          "scatterpolargl": [
           {
            "marker": {
             "colorbar": {
              "outlinewidth": 0,
              "ticks": ""
             }
            },
            "type": "scatterpolargl"
           }
          ],
          "scatterternary": [
           {
            "marker": {
             "colorbar": {
              "outlinewidth": 0,
              "ticks": ""
             }
            },
            "type": "scatterternary"
           }
          ],
          "surface": [
           {
            "colorbar": {
             "outlinewidth": 0,
             "ticks": ""
            },
            "colorscale": [
             [
              0,
              "#0d0887"
             ],
             [
              0.1111111111111111,
              "#46039f"
             ],
             [
              0.2222222222222222,
              "#7201a8"
             ],
             [
              0.3333333333333333,
              "#9c179e"
             ],
             [
              0.4444444444444444,
              "#bd3786"
             ],
             [
              0.5555555555555556,
              "#d8576b"
             ],
             [
              0.6666666666666666,
              "#ed7953"
             ],
             [
              0.7777777777777778,
              "#fb9f3a"
             ],
             [
              0.8888888888888888,
              "#fdca26"
             ],
             [
              1,
              "#f0f921"
             ]
            ],
            "type": "surface"
           }
          ],
          "table": [
           {
            "cells": {
             "fill": {
              "color": "#EBF0F8"
             },
             "line": {
              "color": "white"
             }
            },
            "header": {
             "fill": {
              "color": "#C8D4E3"
             },
             "line": {
              "color": "white"
             }
            },
            "type": "table"
           }
          ]
         },
         "layout": {
          "annotationdefaults": {
           "arrowcolor": "#2a3f5f",
           "arrowhead": 0,
           "arrowwidth": 1
          },
          "autotypenumbers": "strict",
          "coloraxis": {
           "colorbar": {
            "outlinewidth": 0,
            "ticks": ""
           }
          },
          "colorscale": {
           "diverging": [
            [
             0,
             "#8e0152"
            ],
            [
             0.1,
             "#c51b7d"
            ],
            [
             0.2,
             "#de77ae"
            ],
            [
             0.3,
             "#f1b6da"
            ],
            [
             0.4,
             "#fde0ef"
            ],
            [
             0.5,
             "#f7f7f7"
            ],
            [
             0.6,
             "#e6f5d0"
            ],
            [
             0.7,
             "#b8e186"
            ],
            [
             0.8,
             "#7fbc41"
            ],
            [
             0.9,
             "#4d9221"
            ],
            [
             1,
             "#276419"
            ]
           ],
           "sequential": [
            [
             0,
             "#0d0887"
            ],
            [
             0.1111111111111111,
             "#46039f"
            ],
            [
             0.2222222222222222,
             "#7201a8"
            ],
            [
             0.3333333333333333,
             "#9c179e"
            ],
            [
             0.4444444444444444,
             "#bd3786"
            ],
            [
             0.5555555555555556,
             "#d8576b"
            ],
            [
             0.6666666666666666,
             "#ed7953"
            ],
            [
             0.7777777777777778,
             "#fb9f3a"
            ],
            [
             0.8888888888888888,
             "#fdca26"
            ],
            [
             1,
             "#f0f921"
            ]
           ],
           "sequentialminus": [
            [
             0,
             "#0d0887"
            ],
            [
             0.1111111111111111,
             "#46039f"
            ],
            [
             0.2222222222222222,
             "#7201a8"
            ],
            [
             0.3333333333333333,
             "#9c179e"
            ],
            [
             0.4444444444444444,
             "#bd3786"
            ],
            [
             0.5555555555555556,
             "#d8576b"
            ],
            [
             0.6666666666666666,
             "#ed7953"
            ],
            [
             0.7777777777777778,
             "#fb9f3a"
            ],
            [
             0.8888888888888888,
             "#fdca26"
            ],
            [
             1,
             "#f0f921"
            ]
           ]
          },
          "colorway": [
           "#636efa",
           "#EF553B",
           "#00cc96",
           "#ab63fa",
           "#FFA15A",
           "#19d3f3",
           "#FF6692",
           "#B6E880",
           "#FF97FF",
           "#FECB52"
          ],
          "font": {
           "color": "#2a3f5f"
          },
          "geo": {
           "bgcolor": "white",
           "lakecolor": "white",
           "landcolor": "white",
           "showlakes": true,
           "showland": true,
           "subunitcolor": "#C8D4E3"
          },
          "hoverlabel": {
           "align": "left"
          },
          "hovermode": "closest",
          "mapbox": {
           "style": "light"
          },
          "paper_bgcolor": "white",
          "plot_bgcolor": "white",
          "polar": {
           "angularaxis": {
            "gridcolor": "#EBF0F8",
            "linecolor": "#EBF0F8",
            "ticks": ""
           },
           "bgcolor": "white",
           "radialaxis": {
            "gridcolor": "#EBF0F8",
            "linecolor": "#EBF0F8",
            "ticks": ""
           }
          },
          "scene": {
           "xaxis": {
            "backgroundcolor": "white",
            "gridcolor": "#DFE8F3",
            "gridwidth": 2,
            "linecolor": "#EBF0F8",
            "showbackground": true,
            "ticks": "",
            "zerolinecolor": "#EBF0F8"
           },
           "yaxis": {
            "backgroundcolor": "white",
            "gridcolor": "#DFE8F3",
            "gridwidth": 2,
            "linecolor": "#EBF0F8",
            "showbackground": true,
            "ticks": "",
            "zerolinecolor": "#EBF0F8"
           },
           "zaxis": {
            "backgroundcolor": "white",
            "gridcolor": "#DFE8F3",
            "gridwidth": 2,
            "linecolor": "#EBF0F8",
            "showbackground": true,
            "ticks": "",
            "zerolinecolor": "#EBF0F8"
           }
          },
          "shapedefaults": {
           "line": {
            "color": "#2a3f5f"
           }
          },
          "ternary": {
           "aaxis": {
            "gridcolor": "#DFE8F3",
            "linecolor": "#A2B1C6",
            "ticks": ""
           },
           "baxis": {
            "gridcolor": "#DFE8F3",
            "linecolor": "#A2B1C6",
            "ticks": ""
           },
           "bgcolor": "white",
           "caxis": {
            "gridcolor": "#DFE8F3",
            "linecolor": "#A2B1C6",
            "ticks": ""
           }
          },
          "title": {
           "x": 0.05
          },
          "xaxis": {
           "automargin": true,
           "gridcolor": "#EBF0F8",
           "linecolor": "#EBF0F8",
           "ticks": "",
           "title": {
            "standoff": 15
           },
           "zerolinecolor": "#EBF0F8",
           "zerolinewidth": 2
          },
          "yaxis": {
           "automargin": true,
           "gridcolor": "#EBF0F8",
           "linecolor": "#EBF0F8",
           "ticks": "",
           "title": {
            "standoff": 15
           },
           "zerolinecolor": "#EBF0F8",
           "zerolinewidth": 2
          }
         }
        },
        "title": {
         "text": "Time Series of Accidents"
        },
        "xaxis": {
         "title": {
          "text": "Year"
         }
        },
        "yaxis": {
         "title": {
          "text": "People"
         }
        }
       }
      }
     },
     "metadata": {},
     "output_type": "display_data"
    }
   ],
   "source": [
    "import pandas as pd\n",
    "import plotly.graph_objects as go\n",
    "from pyspark.sql.functions import count, hour\n",
    "from pyspark.sql import functions as F\n",
    "import seaborn as sns\n",
    "import matplotlib.pyplot as plt\n",
    "\n",
    "# # Aggregate data by year\n",
    "aggregated_df = (\n",
    "    merged_df_all_beverages.groupBy(\"Year\")\n",
    "    .agg(F.sum(\"Gallons_of_Ethanol\").alias(\"Gallons_of_Ethanol\"))\n",
    "    .orderBy(\"Year\")\n",
    ")\n",
    "\n",
    "aggregated_population_df = (\n",
    "    data_df.groupBy(\"Year\")\n",
    "    .agg(count(lit(1)).alias(\"Population\"))\n",
    "    .orderBy(\"Year\")\n",
    ")\n",
    "\n",
    "# Convert to Pandas for Plotly visualization\n",
    "aggregated_df_pd = aggregated_df.toPandas()\n",
    "aggregated_population_pd = aggregated_population_df.toPandas()\n",
    "\n",
    "# Plotly: Alcohol Consumption Time Series\n",
    "fig1 = go.Figure()\n",
    "fig1.add_trace(\n",
    "    go.Scatter(\n",
    "        x=aggregated_df_pd['Year'],\n",
    "        y=aggregated_df_pd['Gallons_of_Ethanol'],\n",
    "        mode='lines+markers',\n",
    "        name='Alcohol Consumption (Ethanol per capita)',\n",
    "        line=dict(color='blue')\n",
    "    )\n",
    ")\n",
    "fig1.update_layout(\n",
    "    title='Time Series of Alcohol Consumption',\n",
    "    xaxis_title='Year',\n",
    "    yaxis_title='Gallons',\n",
    "    legend_title='Metrics',\n",
    "    template='plotly_white'\n",
    ")\n",
    "fig1.show()\n",
    "\n",
    "# Plotly: Accidents Time Series\n",
    "fig2 = go.Figure()\n",
    "fig2.add_trace(\n",
    "    go.Scatter(\n",
    "        x=aggregated_population_pd['Year'],\n",
    "        y=aggregated_population_pd['Population'],\n",
    "        mode='lines+markers',\n",
    "        name='Accidents',\n",
    "        line=dict(color='red')\n",
    "    )\n",
    ")\n",
    "fig2.update_layout(\n",
    "    title='Time Series of Accidents',\n",
    "    xaxis_title='Year',\n",
    "    yaxis_title='People',\n",
    "    legend_title='Metrics',\n",
    "    template='plotly_white'\n",
    ")\n",
    "fig2.show()"
   ]
  },
  {
   "cell_type": "markdown",
   "metadata": {},
   "source": [
    "We created time series charts to analyze the relationship between the number of accidents and the volume of alcohol consumption over time. The first chart illustrates the trend in the number of accidents over time, while the second chart captures the trend in gallons of alcohol consumed during the same period. By comparing these charts, we observed a noticeable pattern: as the gallons of alcohol consumed increased, there was a corresponding rise in the number of accidents."
   ]
  },
  {
   "cell_type": "markdown",
   "metadata": {},
   "source": [
    "Now that we have seen so many accidents, can we do anything about it? Yes we can.\n",
    "We analyzed accident data in South Carolina, identifying over 80,000 unique accident spots. To address this and optimize the placement of speed radars, we applied the DBSCAN clustering algorithm."
   ]
  },
  {
   "cell_type": "code",
   "execution_count": 39,
   "metadata": {},
   "outputs": [
    {
     "name": "stderr",
     "output_type": "stream",
     "text": [
      "[Stage 143:==================================================>     (9 + 1) / 10]\r"
     ]
    },
    {
     "name": "stdout",
     "output_type": "stream",
     "text": [
      "Total number of accidents occurred in the state: 79651\n",
      "Number of clusters (excluding noise): 5277\n",
      "Number of noise points: 5161\n"
     ]
    },
    {
     "name": "stderr",
     "output_type": "stream",
     "text": [
      "                                                                                \r"
     ]
    }
   ],
   "source": [
    "import pandas as pd\n",
    "from sklearn.cluster import DBSCAN\n",
    "from sklearn.preprocessing import StandardScaler\n",
    "pd.options.mode.chained_assignment = None \n",
    "# Filter data for 2021 and state \"South Carolina\"\n",
    "state_df = data_df.filter((col(\"Year\") == 2021) & (col(\"State\") == \"South Carolina\"))\n",
    "state_df_state = data_df.filter((col(\"Year\") == 2021) & (col(\"State\") == \"South Carolina\"))\n",
    "\n",
    "# Select relevant columns\n",
    "coordinates = state_df.select(\"Start_Lat\", \"Start_Lng\").collect()\n",
    "coordinates = [(row[\"Start_Lat\"], row[\"Start_Lng\"]) for row in coordinates]\n",
    "\n",
    "# Scale coordinates\n",
    "scaler = StandardScaler()\n",
    "scaled_coordinates = scaler.fit_transform(coordinates)\n",
    "\n",
    "# Apply DBSCAN\n",
    "dbscan = DBSCAN(eps=0.008, min_samples=2)\n",
    "dbscan.fit(scaled_coordinates)\n",
    "\n",
    "# Extract cluster labels\n",
    "cluster_labels = dbscan.labels_\n",
    "\n",
    "# Add cluster labels back to the DataFrame\n",
    "cluster_df = spark.createDataFrame(\n",
    "    [(coordinates[i][0], coordinates[i][1], int(cluster_labels[i])) for i in range(len(cluster_labels))],\n",
    "    schema=[\"Start_Lat\", \"Start_Lng\", \"Cluster\"]\n",
    ")\n",
    "\n",
    "# Join cluster labels with the original filtered data\n",
    "state_df = state_df.join(cluster_df, on=[\"Start_Lat\", \"Start_Lng\"], how=\"left\")\n",
    "\n",
    "# Calculate number of noise points\n",
    "noise_count = state_df.filter(col(\"Cluster\") == -1).count()\n",
    "\n",
    "# Calculate number of clusters\n",
    "unique_clusters = state_df.select(\"Cluster\").distinct().rdd.flatMap(lambda x: x).collect()\n",
    "n_clusters = len([cluster for cluster in unique_clusters if cluster != -1])\n",
    "\n",
    "print(f\"Total number of accidents occurred in the state: {state_df.count()}\")\n",
    "print(f\"Number of clusters (excluding noise): {n_clusters}\")\n",
    "print(f\"Number of noise points: {noise_count}\")\n",
    "\n",
    "state_df = state_df.withColumn(\"Cluster\", when(col(\"Cluster\") == -1, \"Noise\").otherwise(col(\"Cluster\")))"
   ]
  },
  {
   "cell_type": "code",
   "execution_count": 40,
   "metadata": {},
   "outputs": [
    {
     "name": "stderr",
     "output_type": "stream",
     "text": [
      "                                                                                \r"
     ]
    }
   ],
   "source": [
    "# Convert to Pandas for visualization\n",
    "state_cluster_df_pandas = state_df.toPandas()\n",
    "state_df_state_pandas = state_df_state.toPandas()\n",
    "\n",
    "import plotly.express as px\n",
    "\n",
    "# Visualize clusters on a map\n",
    "fig = px.scatter_mapbox(\n",
    "    state_cluster_df_pandas,\n",
    "    lat=\"Start_Lat\",\n",
    "    lon=\"Start_Lng\",\n",
    "    color=\"Cluster\",  # Different colors for clusters\n",
    "    hover_data={\"Cluster\": True},\n",
    "    zoom=3,\n",
    "    mapbox_style=\"carto-positron\",\n",
    "    title=\"DBSCAN Clustering of Accident Locations\"\n",
    ")\n",
    "\n",
    "# Saving the csv for visualization\n",
    "state_cluster_df_pandas.to_csv('map-viz/public/cluster_df.csv', mode='a', index=False)\n",
    "state_df_state_pandas.to_csv('map-viz/public/state_df.csv', mode='a', index=False)\n",
    "\n",
    "\n",
    "# Plotted this graph in React Web App\n",
    "# Show the map\n",
    "# fig.show()"
   ]
  },
  {
   "cell_type": "markdown",
   "metadata": {},
   "source": [
    "DBSCAN groups nearby accident locations into clusters, allowing us to reduce the number of monitoring points to around 5,000 key checkpoints. These checkpoints represent dense areas of accidents, where installing speed radars can effectively enhance road safety by targeting high-risk zones. This approach ensures efficient resource allocation while potentially reducing accident rates. We have plotted the graph in React Web App."
   ]
  },
  {
   "cell_type": "markdown",
   "metadata": {},
   "source": [
    "We can also find out the average distance between all the accident points and the centroids so we can efficiently place the speed radars to reduce the accidents."
   ]
  },
  {
   "cell_type": "code",
   "execution_count": 41,
   "metadata": {},
   "outputs": [],
   "source": [
    "from geopy.distance import geodesic\n",
    "from pyspark.sql.functions import col, mean, udf, lit\n",
    "from pyspark.sql.types import DoubleType, StringType\n",
    "state_df = state_df.filter(col(\"Cluster\") != \"Noise\")  # Exclude noise\n",
    "\n",
    "# Step 1: Compute Cluster Centroids\n",
    "centroids_df = (\n",
    "    state_df.groupBy(\"Cluster\")\n",
    "    .agg(\n",
    "        mean(\"Start_Lat\").alias(\"Centroid_Lat\"),\n",
    "        mean(\"Start_Lng\").alias(\"Centroid_Lng\")\n",
    "    )\n",
    ")\n",
    "\n",
    "# Join the centroids back to the original DataFrame\n",
    "state_with_centroids = state_df.join(centroids_df, on=\"Cluster\", how=\"inner\")\n",
    "\n",
    "# Step 2: Define UDF to Calculate Geodesic Distance\n",
    "def geodesic_distance(start_lat, start_lng, centroid_lat, centroid_lng):\n",
    "    return geodesic((start_lat, start_lng), (centroid_lat, centroid_lng)).miles\n",
    "\n",
    "geodesic_udf = udf(geodesic_distance, DoubleType())\n",
    "\n",
    "# Add a column for distances to centroid\n",
    "state_with_centroids = state_with_centroids.withColumn(\n",
    "    \"Distance_to_Centroid\",\n",
    "    geodesic_udf(\n",
    "        col(\"Start_Lat\"),\n",
    "        col(\"Start_Lng\"),\n",
    "        col(\"Centroid_Lat\"),\n",
    "        col(\"Centroid_Lng\")\n",
    "    )\n",
    ")\n",
    "\n",
    "# Step 3: Calculate Average Distance per Cluster\n",
    "avg_distances_df = (\n",
    "    state_with_centroids.groupBy(\"Cluster\")\n",
    "    .agg(\n",
    "        mean(\"Distance_to_Centroid\").alias(\"Avg_Distance_miles\"),\n",
    "        mean(\"Centroid_Lat\").alias(\"Lat\"),\n",
    "        mean(\"Centroid_Lng\").alias(\"Long\")\n",
    "    )\n",
    ")"
   ]
  },
  {
   "cell_type": "code",
   "execution_count": 42,
   "metadata": {},
   "outputs": [
    {
     "name": "stderr",
     "output_type": "stream",
     "text": [
      "[Stage 171:>                                                        (0 + 1) / 1]\r"
     ]
    },
    {
     "name": "stdout",
     "output_type": "stream",
     "text": [
      "\n",
      "Maximum average distance from the checkpoint (Centroid): 11 miles\n"
     ]
    },
    {
     "name": "stderr",
     "output_type": "stream",
     "text": [
      "                                                                                \r"
     ]
    }
   ],
   "source": [
    "avg_distances_pd = avg_distances_df.toPandas()\n",
    "# Find the maximum average distance\n",
    "max_distance = avg_distances_pd['Avg_Distance_miles'].max()\n",
    "print(f\"\\nMaximum average distance from the checkpoint (Centroid): {(max_distance)} miles\")"
   ]
  }
 ],
 "metadata": {
  "kernelspec": {
   "display_name": "Python 3",
   "language": "python",
   "name": "python3"
  },
  "language_info": {
   "codemirror_mode": {
    "name": "ipython",
    "version": 3
   },
   "file_extension": ".py",
   "mimetype": "text/x-python",
   "name": "python",
   "nbconvert_exporter": "python",
   "pygments_lexer": "ipython3",
   "version": "3.10.12"
  }
 },
 "nbformat": 4,
 "nbformat_minor": 2
}
